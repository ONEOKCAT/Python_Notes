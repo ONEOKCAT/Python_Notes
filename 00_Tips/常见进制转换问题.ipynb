{
 "cells": [
  {
   "cell_type": "markdown",
   "id": "6165fe87-1e03-44b1-a695-27e0ba2b92ee",
   "metadata": {},
   "source": [
    "## **常见进制转换说明**"
   ]
  },
  {
   "cell_type": "markdown",
   "id": "2e2871b1-7062-4187-be5e-c85c6149b92f",
   "metadata": {},
   "source": [
    "#### **1. int >> str**\n",
    "\n",
    "* **Intro:**&emsp;十进制 int 类型 >> 其他进制 str 类型\n",
    "* **Function:**&emsp;二进制 `bin()`, 八进制 `oct()`, 十六进制 `hex()` \n",
    "* **Note:**&emsp;十六进制输出结果为小写字母; 输出结果带有前缀, 即 `0b` `0o` `0x` "
   ]
  },
  {
   "cell_type": "code",
   "execution_count": 1,
   "id": "543c92c7-6b43-4a1e-8ac6-f62a2c5b2b6a",
   "metadata": {},
   "outputs": [
    {
     "name": "stdout",
     "output_type": "stream",
     "text": [
      "二进制： 0b1100100\n",
      "八进制： 0o144\n",
      "十六进制： 0x64\n",
      "类型： <class 'str'> <class 'str'> <class 'str'>\n"
     ]
    }
   ],
   "source": [
    "data = 100\n",
    "\n",
    "print(\"二进制：\", bin(data))\n",
    "print(\"八进制：\", oct(data))\n",
    "print(\"十六进制：\", hex(data))\n",
    "\n",
    "print(\"类型：\", type(bin(data)), type(oct(data)), type(hex(data)))"
   ]
  },
  {
   "cell_type": "markdown",
   "id": "13d5e70a-a6f5-44e1-8736-52584690b4ee",
   "metadata": {},
   "source": [
    "#### **2. str >> int**\n",
    "* **Intro:**&emsp;其他进制 str 类型 >> 十进制 int 类型\n",
    "* **Function:**&emsp;`int(data, x)`，其中 `x` 表示 `data` 的进制数\n",
    "* **Note:**&emsp;由于其他进制数的 int 形式会自动转化为十进制的 int 类型显示，所以不需要特殊处理 int >> int 场景"
   ]
  },
  {
   "cell_type": "code",
   "execution_count": 2,
   "id": "02e00686-14a7-4ace-bbbb-1a385506b285",
   "metadata": {},
   "outputs": [
    {
     "name": "stdout",
     "output_type": "stream",
     "text": [
      "二进制-int： 100\n",
      "八进制-int： 100\n",
      "十六进制-int： 100\n"
     ]
    }
   ],
   "source": [
    "bin_data = 0b1100100\n",
    "oct_data = 0o144\n",
    "hex_data = 0x64\n",
    "\n",
    "print(\"二进制-int：\", bin_data)\n",
    "print(\"八进制-int：\", oct_data)\n",
    "print(\"十六进制-int：\", hex_data)"
   ]
  },
  {
   "cell_type": "code",
   "execution_count": 3,
   "id": "ddff0fcc-2973-45c2-b043-25febb86d204",
   "metadata": {},
   "outputs": [
    {
     "name": "stdout",
     "output_type": "stream",
     "text": [
      "二进制 -> 十进制： 100\n",
      "八进制 -> 十进制： 100\n",
      "十六进制 -> 十进制： 100\n",
      "类型： <class 'int'> <class 'int'> <class 'int'>\n"
     ]
    }
   ],
   "source": [
    "bin_data = \"0b1100100\"\n",
    "oct_data = \"0o144\"\n",
    "hex_data = \"0x64\"\n",
    "\n",
    "print(\"二进制 -> 十进制：\", int(bin_data,2))\n",
    "print(\"八进制 -> 十进制：\", int(oct_data,8))\n",
    "print(\"十六进制 -> 十进制：\", int(hex_data,16))\n",
    "\n",
    "print(\"类型：\", type(int(bin_data,2)), type(int(oct_data,8)), type(int(hex_data,16)))"
   ]
  },
  {
   "cell_type": "markdown",
   "id": "26b8098d-90cf-4165-a3be-77109a96a9fb",
   "metadata": {},
   "source": [
    "#### **3. str >> str**\n",
    "* **Intro:**&emsp;不同进制 str 类型间的转换\n",
    "* **Note:**&emsp;其本质在于以十进制为中转，来传递各进制的转换\n",
    "\n",
    "  以十六进制转换为二进制为例："
   ]
  },
  {
   "cell_type": "code",
   "execution_count": 4,
   "id": "990b7fff-a4ee-4066-96b3-a977dcc006d3",
   "metadata": {},
   "outputs": [
    {
     "name": "stdout",
     "output_type": "stream",
     "text": [
      "0b1100100\n"
     ]
    }
   ],
   "source": [
    "hex_data = \"0x64\"\n",
    "\n",
    "bin_data = bin(int(hex_data,16))\n",
    "\n",
    "print(bin_data)"
   ]
  },
  {
   "cell_type": "markdown",
   "id": "7a9c21b4-ed83-4ffa-b6c8-0da5c4e70ce4",
   "metadata": {},
   "source": [
    "#### **3. 填充问题**\n",
    "* **Intro:**&emsp;进制的填充问题可以用格式化转换方式解决\n",
    "* **Function:**&emsp;\n",
    "  \n",
    "  `format(data, '0nb')`，其中 `data` 为十进制源数据，`n`用于制定填充位数（即显示长度），`b`代表转换为二进制\n",
    "  \n",
    "  `format(data, '0no')`，其中 `data` 为十进制源数据，`n`用于制定填充位数（即显示长度），`o`意味着八进制字母为小写（`O`则对应大写）\n",
    "  \n",
    "  `format(data, '0nx')`，其中 `data` 为十进制源数据，`n`用于制定填充位数（即显示长度），`x`意味着十六进制字母为小写（`X`则对应大写）\n",
    "   "
   ]
  },
  {
   "cell_type": "code",
   "execution_count": 5,
   "id": "807b207d-1f9a-4e58-89e5-44363c39992c",
   "metadata": {},
   "outputs": [
    {
     "name": "stdout",
     "output_type": "stream",
     "text": [
      "1010\n",
      "12\n",
      "0A\n",
      "------------\n",
      "0000001010\n",
      "0000000012\n",
      "000000000A\n"
     ]
    }
   ],
   "source": [
    "data = 0xA\n",
    "\n",
    "bin_data = format(data, '02b') \n",
    "oct_data = format(data, '02o') \n",
    "hex_data = format(data, '02X') \n",
    "\n",
    "print(bin_data)\n",
    "print(oct_data)\n",
    "print(hex_data)\n",
    "\n",
    "print(\"------------\")\n",
    "\n",
    "bin_data = format(data, '010b') \n",
    "oct_data = format(data, '010o') \n",
    "hex_data = format(data, '010X') \n",
    "\n",
    "print(bin_data)\n",
    "print(oct_data)\n",
    "print(hex_data)"
   ]
  },
  {
   "cell_type": "markdown",
   "id": "1bb0e5b4-ac96-44a1-bea8-2124336a0e2b",
   "metadata": {},
   "source": [
    "#### **4. 自定义函数**\n",
    "* **Intro:**&emsp;十进制转换为任意进制"
   ]
  },
  {
   "cell_type": "code",
   "execution_count": 6,
   "id": "dd9a86d9-68b5-4356-a3c5-8e1bbe79ad83",
   "metadata": {},
   "outputs": [
    {
     "name": "stdout",
     "output_type": "stream",
     "text": [
      "FF\n",
      "173\n",
      "1100100\n",
      "ES\n"
     ]
    }
   ],
   "source": [
    "def decimal_to_any_base(decimal, base):  \n",
    "    \"\"\"  \n",
    "    Parameter:  \n",
    "    decimal -- 十进制数（整数）  \n",
    "    base -- 目标进制数（整数，范围在2到36之间） \n",
    "    \n",
    "    Return:  \n",
    "    str -- 目标进制下的字符串表示，不包括前缀（如'0b', '0x'） \n",
    "    \n",
    "    Note:  \n",
    "    如果base大于10，则使用字母'A'到'Z'来表示10到35\n",
    "    \"\"\"  \n",
    "    if decimal == 0:  \n",
    "        return '0'  \n",
    "    if decimal < 0:  \n",
    "        return '-' + decimal_to_any_base(-decimal, base)  \n",
    "    if base < 2 or base > 36:  \n",
    "        raise ValueError(\"Base must be between 2 and 36\")  \n",
    "    digits = \"0123456789ABCDEFGHIJKLMNOPQRSTUVWXYZ\"  \n",
    "    result = ''  \n",
    "    while decimal > 0:  \n",
    "        result = digits[decimal % base] + result  \n",
    "        decimal //= base  \n",
    "    return result  \n",
    "  \n",
    "print(decimal_to_any_base(255, 16))  \n",
    "print(decimal_to_any_base(123, 8))  \n",
    "print(decimal_to_any_base(100, 2))   \n",
    "print(decimal_to_any_base(532, 36))"
   ]
  },
  {
   "cell_type": "markdown",
   "id": "8cb5499c-e2f3-4679-bb58-167baac81b33",
   "metadata": {},
   "source": [
    "* **Intro:**&emsp;任意进制转换为十进制"
   ]
  },
  {
   "cell_type": "code",
   "execution_count": 7,
   "id": "6dbec31e-e50f-46ac-830a-f36e4432542d",
   "metadata": {},
   "outputs": [
    {
     "name": "stdout",
     "output_type": "stream",
     "text": [
      "255\n",
      "123\n",
      "100\n",
      "508\n",
      "0\n"
     ]
    }
   ],
   "source": [
    "def any_base_to_decimal(number_str, base):  \n",
    "    \"\"\"  \n",
    "    将任意进制数的字符串表示（大写或小写均可）转换为十进制整数。  \n",
    "  \n",
    "    Parameter:  \n",
    "    number_str -- 任意进制数的字符串表示  \n",
    "    base -- 原始进制数（整数，范围在2到36之间）  \n",
    "  \n",
    "    Return:  \n",
    "    int -- 转换后的十进制整数  \n",
    "  \n",
    "    Error:  \n",
    "    - ValueError: 如果输入字符串为空、包含非法字符、或基数不在有效范围内  \n",
    "    \"\"\"  \n",
    "    if not number_str:  \n",
    "        raise ValueError(\"Input string cannot be empty.\")  \n",
    "      \n",
    "    if base < 2 or base > 36:  \n",
    "        raise ValueError(\"Base must be between 2 and 36\")  \n",
    "      \n",
    "    digits = \"0123456789ABCDEFGHIJKLMNOPQRSTUVWXYZ\"  \n",
    "      \n",
    "    # 去除前导零（如果字符串不是'0'）  \n",
    "    number_str = number_str.lstrip('0')  \n",
    "      \n",
    "    # 如果去除前导零后字符串为空，则结果为0  \n",
    "    if not number_str:  \n",
    "        return 0  \n",
    " \n",
    "    decimal = 0  \n",
    "    power = 0  \n",
    "    \n",
    "    for char in reversed(number_str):  \n",
    "        if char.isdigit():  \n",
    "            digit_value = int(char)  \n",
    "        elif char.isalpha():  \n",
    "            # 转换为大写以统一处理  \n",
    "            char = char.upper()  \n",
    "            if char not in digits:  \n",
    "                raise ValueError(f\"Invalid character '{char}' in number string.\")  \n",
    "            digit_value = digits.index(char)  \n",
    "        else:  \n",
    "            raise ValueError(f\"Invalid character '{char}' in number string.\")  \n",
    "          \n",
    "        # 检查数字是否在指定基数范围内  \n",
    "        if digit_value >= base:  \n",
    "            raise ValueError(f\"Digit '{char}' is out of range for base {base}.\")  \n",
    "          \n",
    "        # 累加十进制值  \n",
    "        decimal += digit_value * (base ** power)  \n",
    "        power += 1  \n",
    "      \n",
    "    return decimal  \n",
    "    \n",
    "print(any_base_to_decimal(\"FF\", 16))  \n",
    "print(any_base_to_decimal(\"00173\", 8))  \n",
    "print(any_base_to_decimal(\"1100100\", 2))  \n",
    "print(any_base_to_decimal(\"E4\", 36))  \n",
    "print(any_base_to_decimal(\"0\", 2)) "
   ]
  }
 ],
 "metadata": {
  "kernelspec": {
   "display_name": "Python 3 (ipykernel)",
   "language": "python",
   "name": "python3"
  },
  "language_info": {
   "codemirror_mode": {
    "name": "ipython",
    "version": 3
   },
   "file_extension": ".py",
   "mimetype": "text/x-python",
   "name": "python",
   "nbconvert_exporter": "python",
   "pygments_lexer": "ipython3",
   "version": "3.11.4"
  }
 },
 "nbformat": 4,
 "nbformat_minor": 5
}
