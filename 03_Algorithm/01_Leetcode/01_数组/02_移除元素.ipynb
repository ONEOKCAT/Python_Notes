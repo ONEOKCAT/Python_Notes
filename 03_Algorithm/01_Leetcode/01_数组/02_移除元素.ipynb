{
  "nbformat": 4,
  "nbformat_minor": 0,
  "metadata": {
    "colab": {
      "name": "02_移除元素.ipynb",
      "provenance": [],
      "collapsed_sections": []
    },
    "kernelspec": {
      "name": "python3",
      "display_name": "Python 3"
    },
    "language_info": {
      "name": "python"
    }
  },
  "cells": [
    {
      "cell_type": "markdown",
      "source": [
        "**题目**"
      ],
      "metadata": {
        "id": "NwW5xlCAXgiw"
      }
    },
    {
      "cell_type": "markdown",
      "source": [
        "* 给你一个数组 nums 和一个值 val，你需要**原地**移除所有数值等于 val 的元素，并返回移除后数组的新长度。\n",
        "* 不要使用额外的数组空间，你必须仅使用$O(1)$额外空间并原地修改输入数组。元素的顺序可以改变。\n",
        "* 不需要考虑数组中超出新长度后面的元素。\n",
        "\n",
        "\n",
        "\n",
        "  ```\n",
        "  示例 1: \n",
        "  给定 nums = [3,2,2,3], val = 3, 函数应该返回新的长度 2, 并且 nums 中的前两个元素均为 2。\n",
        "\n",
        "  示例 2: \n",
        "  给定 nums = [0,1,2,2,3,0,4,2], val = 2, 函数应该返回新的长度 5, 并且 nums 中的前五个元素为 0, 1, 3, 0, 4。\n",
        "  ```\n"
      ],
      "metadata": {
        "id": "gsCSdb2kXlgI"
      }
    },
    {
      "cell_type": "markdown",
      "source": [
        "**解题思路**"
      ],
      "metadata": {
        "id": "ksGRBI6bYf9T"
      }
    },
    {
      "cell_type": "markdown",
      "source": [
        "* **数组的元素在内存地址中是连续的，不能单独删除数组中的某个元素，只能覆盖。**\n",
        "* **暴力解法:** 发现需要移除的元素，就将数组集体向前移动一位\n",
        "* **双指针法（快慢指针法）:** 通过一个快指针和慢指针在一个for循环下完成两个for循环的工作。\n",
        "  \n",
        "  **定义快慢指针:**\n",
        "\n",
        "  快指针: 寻找新数组的元素 ，新数组就是不含有目标元素的数组\n",
        "  \n",
        "  慢指针: 指向更新新数组下标的位置"
      ],
      "metadata": {
        "id": "GHkgS-b1YiaD"
      }
    },
    {
      "cell_type": "markdown",
      "source": [
        "**暴力解法**"
      ],
      "metadata": {
        "id": "B9K0hV1EPB7P"
      }
    },
    {
      "cell_type": "code",
      "source": [
        "class Solution(object):\n",
        "    def RemoveElement(self, nums, val):\n",
        "      i = 0 \n",
        "      size = len(nums)\n",
        "\n",
        "      while i < size:\n",
        "        if nums[i] == val:\n",
        "          j = i + 1\n",
        "          \n",
        "          while j < size:\n",
        "            nums[j-1] = nums[j]      #  发现需要移除的元素，就将数组集体向前移动一位\n",
        "            j += 1\n",
        "\n",
        "          i -= 1        #  因为下标i以后的数值都向前移动了一位，所以i也向前移动一位\n",
        "          size -= 1      #  此时数组的大小-1\n",
        "\n",
        "        i += 1\n",
        "\n",
        "      return size, nums"
      ],
      "metadata": {
        "id": "kIA9hn6yN3sO"
      },
      "execution_count": 25,
      "outputs": []
    },
    {
      "cell_type": "code",
      "source": [
        "nums_1 = [3,2,2,3]\n",
        "val_1 = 3\n",
        "\n",
        "Solution().RemoveElement(nums_1,val_1)"
      ],
      "metadata": {
        "colab": {
          "base_uri": "https://localhost:8080/"
        },
        "id": "4iJ6VfpyOhP2",
        "outputId": "8b767e5c-1854-40d2-cfcc-0d2dd2967107"
      },
      "execution_count": 26,
      "outputs": [
        {
          "output_type": "stream",
          "name": "stdout",
          "text": [
            "-1\n",
            "1\n"
          ]
        },
        {
          "output_type": "execute_result",
          "data": {
            "text/plain": [
              "(2, [2, 2, 3, 3])"
            ]
          },
          "metadata": {},
          "execution_count": 26
        }
      ]
    },
    {
      "cell_type": "code",
      "source": [
        "nums_2 = [0,1,2,2,3,0,4,2]\n",
        "val_2 = 2\n",
        "\n",
        "Solution().RemoveElement(nums_2,val_2)"
      ],
      "metadata": {
        "colab": {
          "base_uri": "https://localhost:8080/"
        },
        "id": "yAE5StwMOlkb",
        "outputId": "63f9a261-276e-47bf-a2d3-a6793d21afeb"
      },
      "execution_count": 24,
      "outputs": [
        {
          "output_type": "execute_result",
          "data": {
            "text/plain": [
              "(5, [0, 1, 3, 0, 4, 2, 2, 2])"
            ]
          },
          "metadata": {},
          "execution_count": 24
        }
      ]
    },
    {
      "cell_type": "markdown",
      "source": [
        "**双指针法**"
      ],
      "metadata": {
        "id": "hJbJaFh5KRrb"
      }
    },
    {
      "cell_type": "code",
      "source": [
        "class Solution(object):\n",
        "    def RemoveElement(self, nums, val):\n",
        "        fast = slow = 0\n",
        "\n",
        "        while fast < len(nums):\n",
        "            if nums[fast] != val:\n",
        "                nums[slow] = nums[fast]\n",
        "                slow += 1\n",
        "            # 当 fast 指针遇到要删除的元素时停止赋值\n",
        "            # slow 指针停止移动, fast 指针继续前进\n",
        "            fast += 1\n",
        "            \n",
        "        return slow"
      ],
      "metadata": {
        "id": "5bWkDsIbMhXE"
      },
      "execution_count": null,
      "outputs": []
    },
    {
      "cell_type": "code",
      "source": [
        "nums_1 = [3,2,2,3]\n",
        "val_1 = 3\n",
        "\n",
        "Solution().RemoveElement(nums_1,val_1)"
      ],
      "metadata": {
        "colab": {
          "base_uri": "https://localhost:8080/"
        },
        "id": "_Oi00JwjMsd9",
        "outputId": "2ff6e0f5-3437-4f90-f800-d8a082491c94"
      },
      "execution_count": null,
      "outputs": [
        {
          "output_type": "execute_result",
          "data": {
            "text/plain": [
              "2"
            ]
          },
          "metadata": {},
          "execution_count": 8
        }
      ]
    },
    {
      "cell_type": "code",
      "source": [
        "nums_2 = [0,1,2,2,3,0,4,2]\n",
        "val_2 = 2\n",
        "\n",
        "Solution().RemoveElement(nums_2,val_2)"
      ],
      "metadata": {
        "colab": {
          "base_uri": "https://localhost:8080/"
        },
        "id": "obEYMtgjMtMD",
        "outputId": "6e45f9d1-24f5-41a0-d619-167203dc0f23"
      },
      "execution_count": null,
      "outputs": [
        {
          "output_type": "execute_result",
          "data": {
            "text/plain": [
              "5"
            ]
          },
          "metadata": {},
          "execution_count": 9
        }
      ]
    },
    {
      "cell_type": "markdown",
      "source": [
        "**双指针法(另一种表现形式)**"
      ],
      "metadata": {
        "id": "JPqEpxDsOV7a"
      }
    },
    {
      "cell_type": "code",
      "source": [
        "class Solution(object):\n",
        "    def RemoveElement(self, nums, val):\n",
        "        size = 0\n",
        "        new_nums = []\n",
        "        \n",
        "        for i in range(len(nums)):\n",
        "            if nums[i] != val:\n",
        "                nums[size] = nums[i]\n",
        "                size += 1\n",
        "\n",
        "        for j in range(size):\n",
        "            new_nums.append(nums[j])  \n",
        "\n",
        "        return size, nums, new_nums"
      ],
      "metadata": {
        "id": "m6-NLyspOaGE"
      },
      "execution_count": null,
      "outputs": []
    },
    {
      "cell_type": "code",
      "source": [
        "nums_1 = [3,2,2,3]\n",
        "val_1 = 3\n",
        "\n",
        "Solution().RemoveElement(nums_1,val_1)"
      ],
      "metadata": {
        "colab": {
          "base_uri": "https://localhost:8080/"
        },
        "id": "T_iaPos8OcKZ",
        "outputId": "3f32ef00-5ce1-470c-c38d-b6ee911b4ae7"
      },
      "execution_count": null,
      "outputs": [
        {
          "output_type": "execute_result",
          "data": {
            "text/plain": [
              "(2, [2, 2, 2, 3], [2, 2])"
            ]
          },
          "metadata": {},
          "execution_count": 11
        }
      ]
    },
    {
      "cell_type": "code",
      "source": [
        "nums_2 = [0,1,2,2,3,0,4,2]\n",
        "val_2 = 2\n",
        "\n",
        "Solution().RemoveElement(nums_2,val_2)"
      ],
      "metadata": {
        "colab": {
          "base_uri": "https://localhost:8080/"
        },
        "id": "Q86ThzkfOehJ",
        "outputId": "e002722f-1035-4b34-c643-6fee6043c18a"
      },
      "execution_count": null,
      "outputs": [
        {
          "output_type": "execute_result",
          "data": {
            "text/plain": [
              "(5, [0, 1, 3, 0, 4, 0, 4, 2], [0, 1, 3, 0, 4])"
            ]
          },
          "metadata": {},
          "execution_count": 12
        }
      ]
    }
  ]
}