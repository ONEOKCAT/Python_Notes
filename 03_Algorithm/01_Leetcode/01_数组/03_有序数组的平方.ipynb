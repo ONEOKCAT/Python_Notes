{
  "nbformat": 4,
  "nbformat_minor": 0,
  "metadata": {
    "colab": {
      "name": "03_有序数组的平方.ipynb",
      "provenance": [],
      "collapsed_sections": []
    },
    "kernelspec": {
      "name": "python3",
      "display_name": "Python 3"
    },
    "language_info": {
      "name": "python"
    }
  },
  "cells": [
    {
      "cell_type": "markdown",
      "source": [
        "**题目**"
      ],
      "metadata": {
        "id": "ICnI-E69ILIr"
      }
    },
    {
      "cell_type": "markdown",
      "source": [
        "* 给你一个按**非递减顺序**排序的整数数组 nums，返回**每个数字的平方**组成的新数组，要求也按 **非递减顺序**排序。\n",
        "\n",
        "  ```\n",
        "  示例 1： \n",
        "  输入：nums = [-4,-1,0,3,10] 输出：[0,1,9,16,100] 解释：平方后，数组变为 [16,1,0,9,100]，排序后，数组变为 [0,1,9,16,100]\n",
        "\n",
        "  示例 2： \n",
        "  输入：nums = [-7,-3,2,3,11] 输出：[4,9,9,49,121]\n",
        "  ```\n"
      ],
      "metadata": {
        "id": "XSPpAPoyINQ1"
      }
    },
    {
      "cell_type": "markdown",
      "source": [
        "**暴力解法**"
      ],
      "metadata": {
        "id": "UCScehTYIgjv"
      }
    },
    {
      "cell_type": "markdown",
      "source": [
        "* 每个数平方之后，排个序"
      ],
      "metadata": {
        "id": "290sGT5sIipl"
      }
    },
    {
      "cell_type": "code",
      "source": [
        "class Solution(object):\n",
        "  def sorted_squares(self, nums):\n",
        "    i = 0\n",
        "    while i < len(nums):\n",
        "      nums[i] *= nums[i]\n",
        "      i +=1\n",
        "    return sorted(nums)"
      ],
      "metadata": {
        "id": "eBYmJQOgIbYx"
      },
      "execution_count": 22,
      "outputs": []
    },
    {
      "cell_type": "code",
      "source": [
        "nums1 = [-4,-1,0,3,10]\n",
        "\n",
        "Solution().sorted_squares(nums1)"
      ],
      "metadata": {
        "colab": {
          "base_uri": "https://localhost:8080/"
        },
        "id": "83A9OLxJKfBy",
        "outputId": "ef085d21-97b5-4974-a264-2535e0889de6"
      },
      "execution_count": 23,
      "outputs": [
        {
          "output_type": "execute_result",
          "data": {
            "text/plain": [
              "[0, 1, 9, 16, 100]"
            ]
          },
          "metadata": {},
          "execution_count": 23
        }
      ]
    },
    {
      "cell_type": "code",
      "source": [
        "nums2 = [-7,-3,2,3,11]\n",
        "\n",
        "Solution().sorted_squares(nums2)"
      ],
      "metadata": {
        "colab": {
          "base_uri": "https://localhost:8080/"
        },
        "id": "pXxJvholKxNl",
        "outputId": "94ecc279-907e-4503-ca67-9a93f851ec2a"
      },
      "execution_count": 24,
      "outputs": [
        {
          "output_type": "execute_result",
          "data": {
            "text/plain": [
              "[4, 9, 9, 49, 121]"
            ]
          },
          "metadata": {},
          "execution_count": 24
        }
      ]
    },
    {
      "cell_type": "markdown",
      "source": [
        "**双指针法**"
      ],
      "metadata": {
        "id": "iPZjjdh2NfmS"
      }
    },
    {
      "cell_type": "markdown",
      "source": [
        "* 数组其实是有序的， 只不过负数平方之后可能成为最大数了。那么数组平方的最大值就在数组的两端，不是最左边就是最右边，不可能是中间。此时可以考虑双指针法了，i指向起始位置，j指向终止位置。\n",
        "* 定义一个新数组result，和A数组一样的大小，让k指向result数组终止位置。\n",
        "\n",
        "\n",
        "  ```\n",
        "  如果 A[i] * A[i] < A[j] * A[j] , 那么 result[k--] = A[j] * A[j]\n",
        "\n",
        "  如果 A[i] * A[i] >= A[j] * A[j] , 那么 result[k--] = A[i] * A[i]\n",
        "  ```\n",
        "\n"
      ],
      "metadata": {
        "id": "u-bVP1hnLQec"
      }
    },
    {
      "cell_type": "code",
      "source": [
        "class Solution:\n",
        "    def sorted_squares(self, nums):\n",
        "        n = len(nums)\n",
        "        i,j,k = 0,n - 1,n - 1\n",
        "        new_nums = [-1] * n\n",
        "        while i <= j:\n",
        "            lm = nums[i] ** 2\n",
        "            rm = nums[j] ** 2\n",
        "            if lm > rm:\n",
        "                new_nums[k] = lm\n",
        "                i += 1\n",
        "            else:\n",
        "                new_nums[k] = rm\n",
        "                j -= 1\n",
        "            k -= 1\n",
        "        return new_nums"
      ],
      "metadata": {
        "id": "8wpDxxEiLP6S"
      },
      "execution_count": 25,
      "outputs": []
    },
    {
      "cell_type": "code",
      "source": [
        "nums1 = [-4,-1,0,3,10]\n",
        "\n",
        "Solution().sorted_squares(nums1)"
      ],
      "metadata": {
        "colab": {
          "base_uri": "https://localhost:8080/"
        },
        "id": "gFykLnCJQ6Xc",
        "outputId": "c514dea5-2222-4a1c-a09b-a2bbcd5f2daf"
      },
      "execution_count": 26,
      "outputs": [
        {
          "output_type": "execute_result",
          "data": {
            "text/plain": [
              "[0, 1, 9, 16, 100]"
            ]
          },
          "metadata": {},
          "execution_count": 26
        }
      ]
    },
    {
      "cell_type": "code",
      "source": [
        "nums2 = [-7,-3,2,3,11]\n",
        "\n",
        "Solution().sorted_squares(nums2)"
      ],
      "metadata": {
        "colab": {
          "base_uri": "https://localhost:8080/"
        },
        "id": "FeW_NA73Q8HZ",
        "outputId": "d4f28868-d23d-4c47-da60-734f7be7d902"
      },
      "execution_count": 27,
      "outputs": [
        {
          "output_type": "execute_result",
          "data": {
            "text/plain": [
              "[4, 9, 9, 49, 121]"
            ]
          },
          "metadata": {},
          "execution_count": 27
        }
      ]
    }
  ]
}