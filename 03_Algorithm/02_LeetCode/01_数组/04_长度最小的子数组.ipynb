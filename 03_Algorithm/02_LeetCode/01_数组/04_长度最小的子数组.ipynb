{
  "nbformat": 4,
  "nbformat_minor": 0,
  "metadata": {
    "colab": {
      "name": "04_长度最小的子数组.ipynb",
      "provenance": [],
      "collapsed_sections": []
    },
    "kernelspec": {
      "name": "python3",
      "display_name": "Python 3"
    },
    "language_info": {
      "name": "python"
    }
  },
  "cells": [
    {
      "cell_type": "markdown",
      "source": [
        "**题目**"
      ],
      "metadata": {
        "id": "XvVFlkRFVtog"
      }
    },
    {
      "cell_type": "markdown",
      "source": [
        "* 给定一个含有 n 个正整数的数组和一个正整数 s ，找出该数组中满足其和 ≥ s 的长度最小**连续**子数组，并返回其长度。如果不存在符合条件的子数组，返回 0。\n",
        "  ```\n",
        "  示例：\n",
        "  输入：s = 7, nums = [2,3,1,2,4,3] 输出：2 解释：子数组 [4,3] 是该条件下的长度最小的子数组。\n",
        "\n",
        "  ```\n",
        "\n"
      ],
      "metadata": {
        "id": "_kJRcLCKVwXo"
      }
    },
    {
      "cell_type": "markdown",
      "source": [
        "**暴力解法**"
      ],
      "metadata": {
        "id": "ItZyJhb4Wc4F"
      }
    },
    {
      "cell_type": "code",
      "execution_count": null,
      "metadata": {
        "id": "BVLaWNeURI8q"
      },
      "outputs": [],
      "source": [
        "class Solution(object):\n",
        "  def minsub_arraylen(self, s, nums):\n",
        "     result = float(\"inf\")   # 初始值为正无穷\n",
        "     i = 0\n",
        "\n",
        "     while i < len(nums):   # 序列起点为i\n",
        "          sum = 0 \n",
        "          j = i   # 从 i 开始往后索引\n",
        "          while j < len(nums):\n",
        "             sum += nums[j]  \n",
        "             if sum >= s:   # 一旦发现子序列和超过了s，更新result\n",
        "               sublen = j - i + 1   # 取子序列的长度\n",
        "               result = min(result, sublen) \n",
        "               break\n",
        "             j += 1\n",
        "          i += 1\n",
        "\n",
        "     return 0 if result==float(\"inf\") else result"
      ]
    },
    {
      "cell_type": "code",
      "source": [
        "s = 7\n",
        "nums = [2,3,1,2,4,3]\n",
        "\n",
        "Solution().minsub_arraylen(s, nums)"
      ],
      "metadata": {
        "colab": {
          "base_uri": "https://localhost:8080/"
        },
        "id": "iqeMPEALa71f",
        "outputId": "1683e434-fa02-4356-9c1b-018fb31450ab"
      },
      "execution_count": null,
      "outputs": [
        {
          "output_type": "execute_result",
          "data": {
            "text/plain": [
              "2"
            ]
          },
          "metadata": {},
          "execution_count": 129
        }
      ]
    },
    {
      "cell_type": "markdown",
      "source": [
        "**滑动窗口**"
      ],
      "metadata": {
        "id": "cSXVv0vTlK5_"
      }
    },
    {
      "cell_type": "markdown",
      "source": [
        "* 所谓滑动窗口，就是不断的调节子序列的起始位置和终止位置，从而得出我们要想的结果。"
      ],
      "metadata": {
        "id": "fXXzDr8zl8AO"
      }
    },
    {
      "cell_type": "code",
      "source": [
        "class Solution:\n",
        "    def minSubArrayLen(self, s, nums):\n",
        "        res = float(\"inf\")\n",
        "        sum = 0\n",
        "        index = 0\n",
        "        for i in range(len(nums)):\n",
        "            sum += nums[i]\n",
        "            while sum >= s:\n",
        "                res = min(res, i-index+1)\n",
        "                sum -= nums[index]\n",
        "                index += 1\n",
        "        return 0 if res==float(\"inf\") else res"
      ],
      "metadata": {
        "id": "nvEk__gBlTqb"
      },
      "execution_count": null,
      "outputs": []
    },
    {
      "cell_type": "code",
      "source": [
        "s = 7\n",
        "nums = [2,3,1,2,4,3]\n",
        "\n",
        "Solution().minSubArrayLen(s, nums)"
      ],
      "metadata": {
        "colab": {
          "base_uri": "https://localhost:8080/"
        },
        "id": "HNV3l9LDojwe",
        "outputId": "e96d7ad9-c5fb-4590-e7e0-931c6f838b2e"
      },
      "execution_count": null,
      "outputs": [
        {
          "output_type": "execute_result",
          "data": {
            "text/plain": [
              "2"
            ]
          },
          "metadata": {},
          "execution_count": 116
        }
      ]
    }
  ]
}