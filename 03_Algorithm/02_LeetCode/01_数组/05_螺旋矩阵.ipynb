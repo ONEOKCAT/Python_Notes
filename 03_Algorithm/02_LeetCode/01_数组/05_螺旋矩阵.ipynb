{
  "nbformat": 4,
  "nbformat_minor": 0,
  "metadata": {
    "colab": {
      "name": "05_螺旋矩阵.ipynb",
      "provenance": [],
      "collapsed_sections": []
    },
    "kernelspec": {
      "name": "python3",
      "display_name": "Python 3"
    },
    "language_info": {
      "name": "python"
    }
  },
  "cells": [
    {
      "cell_type": "markdown",
      "source": [
        "**题目**"
      ],
      "metadata": {
        "id": "9NkF1De9imjK"
      }
    },
    {
      "cell_type": "markdown",
      "source": [
        "* 给定一个正整数 n，生成一个包含 1 到 n^2 所有元素，且元素按顺时针顺序螺旋排列的正方形矩阵。\n",
        "  ```\n",
        "  示例:\n",
        "  输入: 3 \n",
        "  输出: [ [ 1, 2, 3 ], [ 8, 9, 4 ], [ 7, 6, 5 ] ]\n",
        "  ```\n",
        "\n"
      ],
      "metadata": {
        "id": "G0SRFpY8ioAG"
      }
    },
    {
      "cell_type": "markdown",
      "source": [
        "**解题思路**"
      ],
      "metadata": {
        "id": "pP4ukWzojTXH"
      }
    },
    {
      "cell_type": "markdown",
      "source": [
        "* 模拟顺时针画矩阵的过程:\n",
        "  \n",
        "  填充上行从左到右\n",
        "  \n",
        "  填充右列从上到下\n",
        "  \n",
        "  填充下行从右到左\n",
        "  \n",
        "  填充左列从下到上"
      ],
      "metadata": {
        "id": "3xuXyta4jV4w"
      }
    },
    {
      "cell_type": "code",
      "execution_count": 1,
      "metadata": {
        "id": "OZDBkkyCR0EB"
      },
      "outputs": [],
      "source": [
        "class Solution(object):\n",
        "    def generateMatrix(self, n):\n",
        "        nums = [[0] * n for _ in range(n)]\n",
        "        startx, starty = 0, 0               # 起始点\n",
        "        loop, mid = n // 2, n // 2          # 迭代次数、n为奇数时，矩阵的中心点\n",
        "        count = 1                           # 计数\n",
        "\n",
        "        for offset in range(1, loop + 1) :      # 每循环一层偏移量加1，偏移量从1开始\n",
        "            for i in range(starty, n - offset) :    # 从左至右，左闭右开\n",
        "                nums[startx][i] = count\n",
        "                count += 1\n",
        "            for i in range(startx, n - offset) :    # 从上至下\n",
        "                nums[i][n - offset] = count\n",
        "                count += 1\n",
        "            for i in range(n - offset, starty, -1) : # 从右至左\n",
        "                nums[n - offset][i] = count\n",
        "                count += 1\n",
        "            for i in range(n - offset, startx, -1) : # 从下至上\n",
        "                nums[i][starty] = count\n",
        "                count += 1                \n",
        "            startx += 1         # 更新起始点\n",
        "            starty += 1\n",
        "\n",
        "        if n % 2 != 0 :\t\t\t# n为奇数时，填充中心点\n",
        "            nums[mid][mid] = count \n",
        "        return nums"
      ]
    },
    {
      "cell_type": "code",
      "source": [
        "Solution().generateMatrix(n=3)"
      ],
      "metadata": {
        "colab": {
          "base_uri": "https://localhost:8080/"
        },
        "id": "DyqbJcwSjKzJ",
        "outputId": "76768a7e-365e-43a8-fb57-9c19f346ad13"
      },
      "execution_count": 2,
      "outputs": [
        {
          "output_type": "execute_result",
          "data": {
            "text/plain": [
              "[[1, 2, 3], [8, 9, 4], [7, 6, 5]]"
            ]
          },
          "metadata": {},
          "execution_count": 2
        }
      ]
    }
  ]
}