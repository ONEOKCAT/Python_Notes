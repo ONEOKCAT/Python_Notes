{
  "nbformat": 4,
  "nbformat_minor": 0,
  "metadata": {
    "colab": {
      "name": "01_二分查找.ipynb",
      "provenance": [],
      "collapsed_sections": []
    },
    "kernelspec": {
      "name": "python3",
      "display_name": "Python 3"
    },
    "language_info": {
      "name": "python"
    }
  },
  "cells": [
    {
      "cell_type": "markdown",
      "source": [
        "**题目**"
      ],
      "metadata": {
        "id": "efiq0ekAIlhl"
      }
    },
    {
      "cell_type": "markdown",
      "source": [
        "* 给定一个 n 个元素有序的（升序）整型数组 nums 和一个目标值 target  ，写一个函数搜索nums 中的 target，如果目标值存在返回下标，否则返回 -1。\n",
        "\n",
        "  ``` \n",
        "  示例 1:\n",
        "  输入: nums = [-1,0,3,5,9,12], target = 9\n",
        "  输出: 4\n",
        "  解释: 9 出现在 nums 中并且下标为 4\n",
        "\n",
        "  示例 2:\n",
        "  输入: nums = [-1,0,3,5,9,12], target = 2\n",
        "  输出: -1\n",
        "  解释: 2 不存在 nums 中因此返回 -1\n",
        "  ```"
      ],
      "metadata": {
        "id": "fm86XZ-HGHOA"
      }
    },
    {
      "cell_type": "markdown",
      "source": [
        "**解题思路**"
      ],
      "metadata": {
        "id": "dedmQxrPIil3"
      }
    },
    {
      "cell_type": "markdown",
      "source": [
        "1. 使用二分法的前提条件: **数组为有序数组**；**数组中无重复元素**。因为一旦有重复元素，使用二分查找法返回的元素下标可能不是唯一的。\n",
        "2. 区间的定义就是不变量。要在二分查找的过程中，保持不变量，就是在while寻找中每一次边界的处理都要坚持根据区间的定义来操作，这就是循环不变量规则。\n",
        "3. 写二分法，区间的定义一般为两种，左闭右闭即[left, right]，或者左闭右开即[left, right)。"
      ],
      "metadata": {
        "id": "g0Pd14ZDHaGb"
      }
    },
    {
      "cell_type": "markdown",
      "source": [
        "**解法一**"
      ],
      "metadata": {
        "id": "_cMGh7V1Ifkn"
      }
    },
    {
      "cell_type": "markdown",
      "source": [
        "* 第一种写法，定义 target 是在一个在左闭右闭的区间里，也就是**[left, right]**。\n",
        "\n",
        "* 区间的定义这就决定了二分法的代码应该如何写，因为定义target在[left, right]区间，所以有如下两点：\n",
        "\n",
        "\n",
        "   1. while (left <= right) 要使用 <= ，因为left == right是有意义的，所以使用 <=\n",
        "   2. if (nums[middle] > target)，right 要赋值为 middle - 1，因为当前这个nums[middle]一定不是target，那么接下来要查找的左区间结束下标位置就是 middle - 1\n"
      ],
      "metadata": {
        "id": "7XDr_IzAIBDa"
      }
    },
    {
      "cell_type": "code",
      "source": [
        "class Solution1(object):\n",
        "    def search(self, nums, target):\n",
        "        left, right = 0, len(nums) - 1\n",
        "        \n",
        "        while left <= right:\n",
        "            middle = (left + right) // 2\n",
        "\n",
        "            if nums[middle] < target:\n",
        "                left = middle + 1\n",
        "            elif nums[middle] > target:\n",
        "                right = middle - 1\n",
        "            else:\n",
        "                return middle\n",
        "        return -1"
      ],
      "metadata": {
        "id": "ese48O12FHxm"
      },
      "execution_count": null,
      "outputs": []
    },
    {
      "cell_type": "code",
      "source": [
        "nums = [-1,0,3,5,9,12]\n",
        "target1 = 9"
      ],
      "metadata": {
        "id": "buIFw91jG5iJ"
      },
      "execution_count": null,
      "outputs": []
    },
    {
      "cell_type": "code",
      "source": [
        "Solution1().search(nums, target1)"
      ],
      "metadata": {
        "colab": {
          "base_uri": "https://localhost:8080/"
        },
        "id": "rhOx4y5DGuvw",
        "outputId": "0ba99cd3-2fcb-4006-9eb0-a4347f0bf697"
      },
      "execution_count": null,
      "outputs": [
        {
          "output_type": "execute_result",
          "data": {
            "text/plain": [
              "4"
            ]
          },
          "metadata": {},
          "execution_count": 46
        }
      ]
    },
    {
      "cell_type": "code",
      "source": [
        "target2 = 2"
      ],
      "metadata": {
        "id": "iz0ubjCtN50a"
      },
      "execution_count": null,
      "outputs": []
    },
    {
      "cell_type": "code",
      "source": [
        "Solution1().search(nums, target2)"
      ],
      "metadata": {
        "colab": {
          "base_uri": "https://localhost:8080/"
        },
        "id": "S-5K_-0CN3IC",
        "outputId": "745c8b79-7813-4083-e7a8-a32d9e5d9a29"
      },
      "execution_count": null,
      "outputs": [
        {
          "output_type": "execute_result",
          "data": {
            "text/plain": [
              "-1"
            ]
          },
          "metadata": {},
          "execution_count": 48
        }
      ]
    },
    {
      "cell_type": "markdown",
      "source": [
        "**解法二**"
      ],
      "metadata": {
        "id": "rMEzn_C4Ia9E"
      }
    },
    {
      "cell_type": "markdown",
      "source": [
        "* 如果说定义 target 是在一个在左闭右开的区间里，也就是**[left, right)**，那么二分法的边界处理方式则截然不同。\n",
        "\n",
        "* 有如下两点：\n",
        "\n",
        "   1. while (left < right)，这里使用 < ，因为left == right在区间[left, right)是没有意义的\n",
        "   2. if (nums[middle] > target) right 更新为middle，因为当前nums[middle]不等于target，去左区间继续寻找，而寻找区间是左闭右开区间，所以right更新为middle，即下一个查询区间不会去比较nums[middle]\n"
      ],
      "metadata": {
        "id": "5y7Vm-Z4JGtD"
      }
    },
    {
      "cell_type": "code",
      "source": [
        "class Solution2(object):\n",
        "    def search(self, nums, target):\n",
        "        left, right  = 0, len(nums)\n",
        "\n",
        "        while left < right:\n",
        "            middle = (left + right) // 2\n",
        "\n",
        "            if nums[middle] < target:\n",
        "                left = middle + 1\n",
        "            elif nums[middle] > target:\n",
        "                right = middle\n",
        "            else:\n",
        "                return middle\n",
        "        return -1"
      ],
      "metadata": {
        "id": "mchLi236JKJE"
      },
      "execution_count": null,
      "outputs": []
    },
    {
      "cell_type": "code",
      "source": [
        "Solution2().search(nums, target1)"
      ],
      "metadata": {
        "colab": {
          "base_uri": "https://localhost:8080/"
        },
        "id": "UPm8Zwi8N0hZ",
        "outputId": "89a8f16e-6ddc-4efa-fb86-b1969ad6c17a"
      },
      "execution_count": null,
      "outputs": [
        {
          "output_type": "execute_result",
          "data": {
            "text/plain": [
              "4"
            ]
          },
          "metadata": {},
          "execution_count": 50
        }
      ]
    },
    {
      "cell_type": "code",
      "source": [
        "Solution2().search(nums, target2)"
      ],
      "metadata": {
        "colab": {
          "base_uri": "https://localhost:8080/"
        },
        "id": "1OyeK_sHN9UJ",
        "outputId": "1f101f81-acb1-4b22-c805-4941c8513507"
      },
      "execution_count": null,
      "outputs": [
        {
          "output_type": "execute_result",
          "data": {
            "text/plain": [
              "-1"
            ]
          },
          "metadata": {},
          "execution_count": 51
        }
      ]
    }
  ]
}