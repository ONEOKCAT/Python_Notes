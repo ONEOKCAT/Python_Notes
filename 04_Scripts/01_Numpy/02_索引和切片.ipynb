{
  "nbformat": 4,
  "nbformat_minor": 0,
  "metadata": {
    "colab": {
      "name": "02_索引和切片.ipynb",
      "provenance": [],
      "collapsed_sections": []
    },
    "kernelspec": {
      "name": "python3",
      "display_name": "Python 3"
    },
    "language_info": {
      "name": "python"
    }
  },
  "cells": [
    {
      "cell_type": "markdown",
      "source": [
        "**# numpy索引和切片**"
      ],
      "metadata": {
        "id": "UJaibUCRiYtk"
      }
    },
    {
      "cell_type": "markdown",
      "source": [
        "**读取行/列**"
      ],
      "metadata": {
        "id": "8d_kc-qhkBqU"
      }
    },
    {
      "cell_type": "code",
      "execution_count": 3,
      "metadata": {
        "id": "3rFfv0BmBXzp",
        "colab": {
          "base_uri": "https://localhost:8080/"
        },
        "outputId": "32d10646-d52d-4eb7-a474-7be6a7f6deeb"
      },
      "outputs": [
        {
          "output_type": "execute_result",
          "data": {
            "text/plain": [
              "array([[ 0,  1,  2,  3,  4,  5],\n",
              "       [ 6,  7,  8,  9, 10, 11],\n",
              "       [12, 13, 14, 15, 16, 17],\n",
              "       [18, 19, 20, 21, 22, 23],\n",
              "       [24, 25, 26, 27, 28, 29],\n",
              "       [30, 31, 32, 33, 34, 35]])"
            ]
          },
          "metadata": {},
          "execution_count": 3
        }
      ],
      "source": [
        "import numpy as np\n",
        "\n",
        "a = np.arange(36).reshape(6,6)\n",
        "a"
      ]
    },
    {
      "cell_type": "code",
      "source": [
        "# 读取行\n",
        "a[1,:], a[1] "
      ],
      "metadata": {
        "colab": {
          "base_uri": "https://localhost:8080/"
        },
        "id": "v-QoPVDWkIMj",
        "outputId": "72ef88c5-d94f-47ed-ec71-f1521059eb72"
      },
      "execution_count": null,
      "outputs": [
        {
          "output_type": "execute_result",
          "data": {
            "text/plain": [
              "(array([ 6,  7,  8,  9, 10, 11]), array([ 6,  7,  8,  9, 10, 11]))"
            ]
          },
          "metadata": {},
          "execution_count": 71
        }
      ]
    },
    {
      "cell_type": "code",
      "source": [
        "# 读取列\n",
        "a[:,1]"
      ],
      "metadata": {
        "colab": {
          "base_uri": "https://localhost:8080/"
        },
        "id": "WImPKCNFkL8H",
        "outputId": "cdbafaae-d8d0-409b-8d0a-ea5be864a5ad"
      },
      "execution_count": null,
      "outputs": [
        {
          "output_type": "execute_result",
          "data": {
            "text/plain": [
              "array([ 1,  7, 13, 19, 25, 31])"
            ]
          },
          "metadata": {},
          "execution_count": 72
        }
      ]
    },
    {
      "cell_type": "code",
      "source": [
        "# 读取连续多行\n",
        "a[1:3]"
      ],
      "metadata": {
        "colab": {
          "base_uri": "https://localhost:8080/"
        },
        "id": "qVXuNgNiy0h8",
        "outputId": "c0181e59-75ba-427d-d46d-bab519b06e49"
      },
      "execution_count": null,
      "outputs": [
        {
          "output_type": "execute_result",
          "data": {
            "text/plain": [
              "array([[ 6,  7,  8,  9, 10, 11],\n",
              "       [12, 13, 14, 15, 16, 17]])"
            ]
          },
          "metadata": {},
          "execution_count": 73
        }
      ]
    },
    {
      "cell_type": "code",
      "source": [
        "# 读取不连续多行\n",
        "a[[0,1,3]]"
      ],
      "metadata": {
        "colab": {
          "base_uri": "https://localhost:8080/"
        },
        "id": "kSLttXeT0hOF",
        "outputId": "9f9f8c13-4cad-4b9b-c534-cbc09f44af73"
      },
      "execution_count": null,
      "outputs": [
        {
          "output_type": "execute_result",
          "data": {
            "text/plain": [
              "array([[ 0,  1,  2,  3,  4,  5],\n",
              "       [ 6,  7,  8,  9, 10, 11],\n",
              "       [18, 19, 20, 21, 22, 23]])"
            ]
          },
          "metadata": {},
          "execution_count": 74
        }
      ]
    },
    {
      "cell_type": "code",
      "source": [
        "# 读取多列\n",
        "a[:,1:3]"
      ],
      "metadata": {
        "colab": {
          "base_uri": "https://localhost:8080/"
        },
        "id": "eTse09ZwzFQN",
        "outputId": "92a27231-0403-4711-fd2c-8dc1f2fb7612"
      },
      "execution_count": null,
      "outputs": [
        {
          "output_type": "execute_result",
          "data": {
            "text/plain": [
              "array([[ 1,  2],\n",
              "       [ 7,  8],\n",
              "       [13, 14],\n",
              "       [19, 20],\n",
              "       [25, 26],\n",
              "       [31, 32]])"
            ]
          },
          "metadata": {},
          "execution_count": 75
        }
      ]
    },
    {
      "cell_type": "code",
      "source": [
        "# 读取不连续多列\n",
        "a[:,[1,3,5]]"
      ],
      "metadata": {
        "colab": {
          "base_uri": "https://localhost:8080/"
        },
        "id": "FVrvEshv7iOD",
        "outputId": "2ec9dc0b-39f6-46fa-a82b-78768d526983"
      },
      "execution_count": null,
      "outputs": [
        {
          "output_type": "execute_result",
          "data": {
            "text/plain": [
              "array([[ 1,  3,  5],\n",
              "       [ 7,  9, 11],\n",
              "       [13, 15, 17],\n",
              "       [19, 21, 23],\n",
              "       [25, 27, 29],\n",
              "       [31, 33, 35]])"
            ]
          },
          "metadata": {},
          "execution_count": 76
        }
      ]
    },
    {
      "cell_type": "code",
      "source": [
        "# 读取单行单列，即单个点\n",
        "a[2,3]"
      ],
      "metadata": {
        "colab": {
          "base_uri": "https://localhost:8080/"
        },
        "id": "u_J06FlgOATL",
        "outputId": "0dffd4b9-e7e8-4e1f-da76-354c1a986066"
      },
      "execution_count": null,
      "outputs": [
        {
          "output_type": "execute_result",
          "data": {
            "text/plain": [
              "15"
            ]
          },
          "metadata": {},
          "execution_count": 77
        }
      ]
    },
    {
      "cell_type": "code",
      "source": [
        "# 读取多行多列，第3行到第5行，第2列到第4列\n",
        "a[2:5,1:4]"
      ],
      "metadata": {
        "colab": {
          "base_uri": "https://localhost:8080/"
        },
        "id": "Xu8S_EZZOIp7",
        "outputId": "bbaeed2e-8677-4861-8c58-a589f88fe08f"
      },
      "execution_count": null,
      "outputs": [
        {
          "output_type": "execute_result",
          "data": {
            "text/plain": [
              "array([[13, 14, 15],\n",
              "       [19, 20, 21],\n",
              "       [25, 26, 27]])"
            ]
          },
          "metadata": {},
          "execution_count": 78
        }
      ]
    },
    {
      "cell_type": "code",
      "source": [
        "# 取多个点\n",
        "a[[0,2,4],[0,1,3]]   # 表示坐标为(0,0), (2,1), (4,3)的三个点"
      ],
      "metadata": {
        "colab": {
          "base_uri": "https://localhost:8080/"
        },
        "id": "Cz9FZpjiPEnp",
        "outputId": "c75b8dbf-6421-430d-defb-0496e92abb18"
      },
      "execution_count": null,
      "outputs": [
        {
          "output_type": "execute_result",
          "data": {
            "text/plain": [
              "array([ 0, 13, 27])"
            ]
          },
          "metadata": {},
          "execution_count": 79
        }
      ]
    },
    {
      "cell_type": "markdown",
      "source": [
        "**数值修改**"
      ],
      "metadata": {
        "id": "_gTlmR7VSNLc"
      }
    },
    {
      "cell_type": "code",
      "source": [
        "# 直接赋值修改 \n",
        "a[2:5,1:4] = 0\n",
        "a"
      ],
      "metadata": {
        "colab": {
          "base_uri": "https://localhost:8080/"
        },
        "id": "WMf-iYGoSQiq",
        "outputId": "27fec10e-3a7b-4c96-f3a3-77db091b1265"
      },
      "execution_count": null,
      "outputs": [
        {
          "output_type": "execute_result",
          "data": {
            "text/plain": [
              "array([[ 0,  1,  2,  3,  4,  5],\n",
              "       [ 6,  7,  8,  9, 10, 11],\n",
              "       [12,  0,  0,  0, 16, 17],\n",
              "       [18,  0,  0,  0, 22, 23],\n",
              "       [24,  0,  0,  0, 28, 29],\n",
              "       [30, 31, 32, 33, 34, 35]])"
            ]
          },
          "metadata": {},
          "execution_count": 80
        }
      ]
    },
    {
      "cell_type": "markdown",
      "source": [
        "**布尔索引**"
      ],
      "metadata": {
        "id": "d7OAeoEbXRES"
      }
    },
    {
      "cell_type": "code",
      "source": [
        "# 进行判断\n",
        "a = np.arange(36).reshape(6,6)\n",
        "\n",
        "a<9"
      ],
      "metadata": {
        "colab": {
          "base_uri": "https://localhost:8080/"
        },
        "id": "_iZTxc5wTL1R",
        "outputId": "0f2fb8ad-3c32-4670-ce35-d1b26564282f"
      },
      "execution_count": 11,
      "outputs": [
        {
          "output_type": "execute_result",
          "data": {
            "text/plain": [
              "array([[ True,  True,  True,  True,  True,  True],\n",
              "       [ True,  True,  True, False, False, False],\n",
              "       [False, False, False, False, False, False],\n",
              "       [False, False, False, False, False, False],\n",
              "       [False, False, False, False, False, False],\n",
              "       [False, False, False, False, False, False]])"
            ]
          },
          "metadata": {},
          "execution_count": 11
        }
      ]
    },
    {
      "cell_type": "code",
      "source": [
        "# 根据判断修改\n",
        "a[a<9] = 1\n",
        "a"
      ],
      "metadata": {
        "colab": {
          "base_uri": "https://localhost:8080/"
        },
        "id": "j01qUXKCXK4u",
        "outputId": "849996e8-f663-452e-e668-00afe81485b9"
      },
      "execution_count": 12,
      "outputs": [
        {
          "output_type": "execute_result",
          "data": {
            "text/plain": [
              "array([[ 1,  1,  1,  1,  1,  1],\n",
              "       [ 1,  1,  1,  9, 10, 11],\n",
              "       [12, 13, 14, 15, 16, 17],\n",
              "       [18, 19, 20, 21, 22, 23],\n",
              "       [24, 25, 26, 27, 28, 29],\n",
              "       [30, 31, 32, 33, 34, 35]])"
            ]
          },
          "metadata": {},
          "execution_count": 12
        }
      ]
    },
    {
      "cell_type": "markdown",
      "source": [
        "**三元运算符**"
      ],
      "metadata": {
        "id": "KTFEDk5RX_xQ"
      }
    },
    {
      "cell_type": "code",
      "source": [
        "a = np.arange(36).reshape(6,6)\n",
        "\n",
        "np.where(a<9,1,100)   # 等价于if a < 9, a = 1, else a = 100"
      ],
      "metadata": {
        "colab": {
          "base_uri": "https://localhost:8080/"
        },
        "id": "hWDbldqYX_TV",
        "outputId": "d59a08e8-3b20-4160-d15d-8d6b4ed640ec"
      },
      "execution_count": 9,
      "outputs": [
        {
          "output_type": "execute_result",
          "data": {
            "text/plain": [
              "array([[  1,   1,   1,   1,   1,   1],\n",
              "       [  1,   1,   1, 100, 100, 100],\n",
              "       [100, 100, 100, 100, 100, 100],\n",
              "       [100, 100, 100, 100, 100, 100],\n",
              "       [100, 100, 100, 100, 100, 100],\n",
              "       [100, 100, 100, 100, 100, 100]])"
            ]
          },
          "metadata": {},
          "execution_count": 9
        }
      ]
    },
    {
      "cell_type": "code",
      "source": [
        "a # 不改变原始数据"
      ],
      "metadata": {
        "colab": {
          "base_uri": "https://localhost:8080/"
        },
        "id": "wo_RusL_xbfm",
        "outputId": "43380d2a-45c2-46c2-dce5-f1d4a452712c"
      },
      "execution_count": 10,
      "outputs": [
        {
          "output_type": "execute_result",
          "data": {
            "text/plain": [
              "array([[ 0,  1,  2,  3,  4,  5],\n",
              "       [ 6,  7,  8,  9, 10, 11],\n",
              "       [12, 13, 14, 15, 16, 17],\n",
              "       [18, 19, 20, 21, 22, 23],\n",
              "       [24, 25, 26, 27, 28, 29],\n",
              "       [30, 31, 32, 33, 34, 35]])"
            ]
          },
          "metadata": {},
          "execution_count": 10
        }
      ]
    },
    {
      "cell_type": "markdown",
      "source": [
        "**clip(裁剪)**"
      ],
      "metadata": {
        "id": "CJQR0VBCoVGt"
      }
    },
    {
      "cell_type": "code",
      "source": [
        "a = np.arange(36).reshape(6,6)\n",
        "a.clip(10,18)  "
      ],
      "metadata": {
        "colab": {
          "base_uri": "https://localhost:8080/"
        },
        "id": "ByGhJGdnoX0a",
        "outputId": "06bc52b5-1cbc-46ef-cfd4-4fc0301d884d"
      },
      "execution_count": 6,
      "outputs": [
        {
          "output_type": "execute_result",
          "data": {
            "text/plain": [
              "array([[10, 10, 10, 10, 10, 10],\n",
              "       [10, 10, 10, 10, 10, 11],\n",
              "       [12, 13, 14, 15, 16, 17],\n",
              "       [18, 18, 18, 18, 18, 18],\n",
              "       [18, 18, 18, 18, 18, 18],\n",
              "       [18, 18, 18, 18, 18, 18]])"
            ]
          },
          "metadata": {},
          "execution_count": 6
        }
      ]
    },
    {
      "cell_type": "code",
      "source": [
        "a # 不改变原始数据"
      ],
      "metadata": {
        "colab": {
          "base_uri": "https://localhost:8080/"
        },
        "id": "h2Ug6sJnxW33",
        "outputId": "bd5c62cc-1493-483b-e7f7-b846ee765704"
      },
      "execution_count": 7,
      "outputs": [
        {
          "output_type": "execute_result",
          "data": {
            "text/plain": [
              "array([[ 0,  1,  2,  3,  4,  5],\n",
              "       [ 6,  7,  8,  9, 10, 11],\n",
              "       [12, 13, 14, 15, 16, 17],\n",
              "       [18, 19, 20, 21, 22, 23],\n",
              "       [24, 25, 26, 27, 28, 29],\n",
              "       [30, 31, 32, 33, 34, 35]])"
            ]
          },
          "metadata": {},
          "execution_count": 7
        }
      ]
    },
    {
      "cell_type": "markdown",
      "source": [
        "**数据类型**"
      ],
      "metadata": {
        "id": "NK2PUQThyD0n"
      }
    },
    {
      "cell_type": "code",
      "source": [
        "a[3,3] = np.nan"
      ],
      "metadata": {
        "colab": {
          "base_uri": "https://localhost:8080/",
          "height": 173
        },
        "id": "WpUO8B5ryDUo",
        "outputId": "3787242e-8f8e-489e-96ee-cd2acd1f44c5"
      },
      "execution_count": 13,
      "outputs": [
        {
          "output_type": "error",
          "ename": "ValueError",
          "evalue": "ignored",
          "traceback": [
            "\u001b[0;31m---------------------------------------------------------------------------\u001b[0m",
            "\u001b[0;31mValueError\u001b[0m                                Traceback (most recent call last)",
            "\u001b[0;32m<ipython-input-13-3c3ada9b76fc>\u001b[0m in \u001b[0;36m<module>\u001b[0;34m()\u001b[0m\n\u001b[0;32m----> 1\u001b[0;31m \u001b[0ma\u001b[0m\u001b[0;34m[\u001b[0m\u001b[0;36m3\u001b[0m\u001b[0;34m,\u001b[0m\u001b[0;36m3\u001b[0m\u001b[0;34m]\u001b[0m \u001b[0;34m=\u001b[0m \u001b[0mnp\u001b[0m\u001b[0;34m.\u001b[0m\u001b[0mnan\u001b[0m\u001b[0;34m\u001b[0m\u001b[0;34m\u001b[0m\u001b[0m\n\u001b[0m",
            "\u001b[0;31mValueError\u001b[0m: cannot convert float NaN to integer"
          ]
        }
      ]
    },
    {
      "cell_type": "code",
      "source": [
        "a.astype(float)\n",
        "a[3,3] = np.nan\n",
        "a"
      ],
      "metadata": {
        "colab": {
          "base_uri": "https://localhost:8080/"
        },
        "id": "dxv_HLWmyLeR",
        "outputId": "52c38ad3-d2e8-4af3-9f0f-14d4acf17fec"
      },
      "execution_count": 17,
      "outputs": [
        {
          "output_type": "execute_result",
          "data": {
            "text/plain": [
              "array([[ 1.,  1.,  1.,  1.,  1.,  1.],\n",
              "       [ 1.,  1.,  1.,  9., 10., 11.],\n",
              "       [12., 13., 14., 15., 16., 17.],\n",
              "       [18., 19., 20., nan, 22., 23.],\n",
              "       [24., 25., 26., 27., 28., 29.],\n",
              "       [30., 31., 32., 33., 34., 35.]])"
            ]
          },
          "metadata": {},
          "execution_count": 17
        }
      ]
    }
  ]
}