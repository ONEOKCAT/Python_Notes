{
  "nbformat": 4,
  "nbformat_minor": 0,
  "metadata": {
    "colab": {
      "name": "01_数组.ipynb",
      "provenance": [],
      "collapsed_sections": []
    },
    "kernelspec": {
      "name": "python3",
      "display_name": "Python 3"
    },
    "language_info": {
      "name": "python"
    }
  },
  "cells": [
    {
      "cell_type": "markdown",
      "source": [
        "**# 数组的创建和计算**"
      ],
      "metadata": {
        "id": "fh6jJi_3L8gq"
      }
    },
    {
      "cell_type": "markdown",
      "source": [
        "**1. 数组的基本属性**"
      ],
      "metadata": {
        "id": "HsmNMCxJMD4R"
      }
    },
    {
      "cell_type": "code",
      "execution_count": 11,
      "metadata": {
        "colab": {
          "base_uri": "https://localhost:8080/"
        },
        "id": "nIHXGdpBJFsf",
        "outputId": "0d8cd273-8038-487f-a62d-64b181fc7b49"
      },
      "outputs": [
        {
          "output_type": "execute_result",
          "data": {
            "text/plain": [
              "(array([1, 2, 3]), numpy.ndarray, dtype('int64'))"
            ]
          },
          "metadata": {},
          "execution_count": 11
        }
      ],
      "source": [
        "import numpy as np\n",
        "\n",
        "a = np.array([1,2,3])   # 创建一维数组，即向量\n",
        "a, type(a), a.dtype     # 生成数组，数组的类名，数组的类型"
      ]
    },
    {
      "cell_type": "code",
      "source": [
        "a.size, a.shape  # 数组的大小(包含元素个数)，数组的形状"
      ],
      "metadata": {
        "colab": {
          "base_uri": "https://localhost:8080/"
        },
        "id": "e8aCsFpLOtpM",
        "outputId": "c449e1d5-849a-4f42-8a66-9698a75ab0fa"
      },
      "execution_count": 12,
      "outputs": [
        {
          "output_type": "execute_result",
          "data": {
            "text/plain": [
              "(3, (3,))"
            ]
          },
          "metadata": {},
          "execution_count": 12
        }
      ]
    },
    {
      "cell_type": "code",
      "source": [
        "b = np.array([[1,2,3], [4,5,6]])  # 创建二维数组，即矩阵\n",
        "b, b.shape, b.size"
      ],
      "metadata": {
        "colab": {
          "base_uri": "https://localhost:8080/"
        },
        "id": "nQnnVf_sO-Da",
        "outputId": "5080d573-2f11-4554-a457-2ec98d43712a"
      },
      "execution_count": 13,
      "outputs": [
        {
          "output_type": "execute_result",
          "data": {
            "text/plain": [
              "(array([[1, 2, 3],\n",
              "        [4, 5, 6]]), (2, 3), 6)"
            ]
          },
          "metadata": {},
          "execution_count": 13
        }
      ]
    },
    {
      "cell_type": "code",
      "source": [
        "c = np.array(1)  # 创建0维数组，即标量\n",
        "c, c.shape, c.size"
      ],
      "metadata": {
        "colab": {
          "base_uri": "https://localhost:8080/"
        },
        "id": "2Dfyj2OqPisc",
        "outputId": "8195c3ee-b3f5-400d-a237-655c920f7558"
      },
      "execution_count": 14,
      "outputs": [
        {
          "output_type": "execute_result",
          "data": {
            "text/plain": [
              "(array(1), (), 1)"
            ]
          },
          "metadata": {},
          "execution_count": 14
        }
      ]
    },
    {
      "cell_type": "code",
      "source": [
        "a = np.array([1,2,3],dtype = np.float32)  # 指定数组的类型 \n",
        "a"
      ],
      "metadata": {
        "colab": {
          "base_uri": "https://localhost:8080/"
        },
        "id": "xSvw7DbdM_jE",
        "outputId": "f1af74b9-0dd8-4b9d-bd4f-cb1003fe2e49"
      },
      "execution_count": 15,
      "outputs": [
        {
          "output_type": "execute_result",
          "data": {
            "text/plain": [
              "array([1., 2., 3.], dtype=float32)"
            ]
          },
          "metadata": {},
          "execution_count": 15
        }
      ]
    },
    {
      "cell_type": "code",
      "source": [
        "b = np.array([0.0123,0.0456,0.0789,0.0321])  # 保留浮点数的小数位数\n",
        "np.round(b,2)"
      ],
      "metadata": {
        "colab": {
          "base_uri": "https://localhost:8080/"
        },
        "id": "-RN9LzAgOMYi",
        "outputId": "3b1181d5-7351-4d01-d18a-1938c20b8b65"
      },
      "execution_count": 16,
      "outputs": [
        {
          "output_type": "execute_result",
          "data": {
            "text/plain": [
              "array([0.01, 0.05, 0.08, 0.03])"
            ]
          },
          "metadata": {},
          "execution_count": 16
        }
      ]
    },
    {
      "cell_type": "code",
      "source": [
        "a.astype(np.int8) # 修改数组的类型"
      ],
      "metadata": {
        "colab": {
          "base_uri": "https://localhost:8080/"
        },
        "id": "UEjuxD3LNu5C",
        "outputId": "517c833e-21d1-4ddf-84ec-aa8d58d00978"
      },
      "execution_count": 17,
      "outputs": [
        {
          "output_type": "execute_result",
          "data": {
            "text/plain": [
              "array([1, 2, 3], dtype=int8)"
            ]
          },
          "metadata": {},
          "execution_count": 17
        }
      ]
    },
    {
      "cell_type": "markdown",
      "source": [
        "* 数组的其他创建方法"
      ],
      "metadata": {
        "id": "OsZ6QwvUN1uH"
      }
    },
    {
      "cell_type": "code",
      "source": [
        "b = np.array(range(10))\n",
        "b"
      ],
      "metadata": {
        "colab": {
          "base_uri": "https://localhost:8080/"
        },
        "id": "Pb2KHmy7Mi6f",
        "outputId": "73d57daf-d717-4c3f-83bd-3b680dba99d7"
      },
      "execution_count": 18,
      "outputs": [
        {
          "output_type": "execute_result",
          "data": {
            "text/plain": [
              "array([0, 1, 2, 3, 4, 5, 6, 7, 8, 9])"
            ]
          },
          "metadata": {},
          "execution_count": 18
        }
      ]
    },
    {
      "cell_type": "code",
      "source": [
        "c = np.arange(10)  # 等价于 np.array(range()) 方法\n",
        "c"
      ],
      "metadata": {
        "colab": {
          "base_uri": "https://localhost:8080/"
        },
        "id": "8TGBvOBSMo_5",
        "outputId": "512355f3-5a77-4073-9935-013991e44904"
      },
      "execution_count": 19,
      "outputs": [
        {
          "output_type": "execute_result",
          "data": {
            "text/plain": [
              "array([0, 1, 2, 3, 4, 5, 6, 7, 8, 9])"
            ]
          },
          "metadata": {},
          "execution_count": 19
        }
      ]
    },
    {
      "cell_type": "code",
      "source": [
        "d = np.arange(4,10,2)\n",
        "d"
      ],
      "metadata": {
        "colab": {
          "base_uri": "https://localhost:8080/"
        },
        "id": "_oXm8fZfMtEB",
        "outputId": "b36390a4-b282-4672-e1e4-6f689a0a1767"
      },
      "execution_count": 20,
      "outputs": [
        {
          "output_type": "execute_result",
          "data": {
            "text/plain": [
              "array([4, 6, 8])"
            ]
          },
          "metadata": {},
          "execution_count": 20
        }
      ]
    },
    {
      "cell_type": "markdown",
      "source": [
        "* 数组形状的修改"
      ],
      "metadata": {
        "id": "1fWkwYqsRCrL"
      }
    },
    {
      "cell_type": "code",
      "source": [
        "A = np.arange(24).reshape(2,2,6) # 创建一个三维数组\n",
        "A"
      ],
      "metadata": {
        "colab": {
          "base_uri": "https://localhost:8080/"
        },
        "id": "DTCornRXRFrA",
        "outputId": "4a90d297-e6ff-41e2-c8e7-478cffa66126"
      },
      "execution_count": 21,
      "outputs": [
        {
          "output_type": "execute_result",
          "data": {
            "text/plain": [
              "array([[[ 0,  1,  2,  3,  4,  5],\n",
              "        [ 6,  7,  8,  9, 10, 11]],\n",
              "\n",
              "       [[12, 13, 14, 15, 16, 17],\n",
              "        [18, 19, 20, 21, 22, 23]]])"
            ]
          },
          "metadata": {},
          "execution_count": 21
        }
      ]
    },
    {
      "cell_type": "code",
      "source": [
        "A.reshape(3,2,4)  # 表示3个矩阵，每个矩阵是2 x 4"
      ],
      "metadata": {
        "colab": {
          "base_uri": "https://localhost:8080/"
        },
        "id": "PPFkrCz8U4Vc",
        "outputId": "fd4f61a6-9a3b-4b50-ebbb-d7d9f5e3dec1"
      },
      "execution_count": 22,
      "outputs": [
        {
          "output_type": "execute_result",
          "data": {
            "text/plain": [
              "array([[[ 0,  1,  2,  3],\n",
              "        [ 4,  5,  6,  7]],\n",
              "\n",
              "       [[ 8,  9, 10, 11],\n",
              "        [12, 13, 14, 15]],\n",
              "\n",
              "       [[16, 17, 18, 19],\n",
              "        [20, 21, 22, 23]]])"
            ]
          },
          "metadata": {},
          "execution_count": 22
        }
      ]
    },
    {
      "cell_type": "code",
      "source": [
        "A.shape  # reshape 不会改变数组本身的形状"
      ],
      "metadata": {
        "colab": {
          "base_uri": "https://localhost:8080/"
        },
        "id": "ybQm1k-VdDpH",
        "outputId": "650dd378-2027-48f9-a318-d9b36c95d273"
      },
      "execution_count": 23,
      "outputs": [
        {
          "output_type": "execute_result",
          "data": {
            "text/plain": [
              "(2, 2, 6)"
            ]
          },
          "metadata": {},
          "execution_count": 23
        }
      ]
    },
    {
      "cell_type": "code",
      "source": [
        "A.reshape(24,)  # 一维数组，一维行向量的形式，但是在计算中是按列向量进行计算的"
      ],
      "metadata": {
        "colab": {
          "base_uri": "https://localhost:8080/"
        },
        "id": "JFvADjDZU7i3",
        "outputId": "4de2fc47-978e-419c-e666-702439cd58da"
      },
      "execution_count": 24,
      "outputs": [
        {
          "output_type": "execute_result",
          "data": {
            "text/plain": [
              "array([ 0,  1,  2,  3,  4,  5,  6,  7,  8,  9, 10, 11, 12, 13, 14, 15, 16,\n",
              "       17, 18, 19, 20, 21, 22, 23])"
            ]
          },
          "metadata": {},
          "execution_count": 24
        }
      ]
    },
    {
      "cell_type": "code",
      "source": [
        "A.reshape(24,1)  # 矩阵的列向量展示"
      ],
      "metadata": {
        "colab": {
          "base_uri": "https://localhost:8080/"
        },
        "id": "1cU2Bk64U_Vl",
        "outputId": "ed8a3fbd-1a5f-4a17-e77c-7156ea57a771"
      },
      "execution_count": 25,
      "outputs": [
        {
          "output_type": "execute_result",
          "data": {
            "text/plain": [
              "array([[ 0],\n",
              "       [ 1],\n",
              "       [ 2],\n",
              "       [ 3],\n",
              "       [ 4],\n",
              "       [ 5],\n",
              "       [ 6],\n",
              "       [ 7],\n",
              "       [ 8],\n",
              "       [ 9],\n",
              "       [10],\n",
              "       [11],\n",
              "       [12],\n",
              "       [13],\n",
              "       [14],\n",
              "       [15],\n",
              "       [16],\n",
              "       [17],\n",
              "       [18],\n",
              "       [19],\n",
              "       [20],\n",
              "       [21],\n",
              "       [22],\n",
              "       [23]])"
            ]
          },
          "metadata": {},
          "execution_count": 25
        }
      ]
    },
    {
      "cell_type": "code",
      "source": [
        "A.reshape(1,24) # 矩阵的行向量展示"
      ],
      "metadata": {
        "colab": {
          "base_uri": "https://localhost:8080/"
        },
        "id": "TN5A3sNvWjCi",
        "outputId": "291eb60d-5473-415c-c677-bbf32aafb387"
      },
      "execution_count": 26,
      "outputs": [
        {
          "output_type": "execute_result",
          "data": {
            "text/plain": [
              "array([[ 0,  1,  2,  3,  4,  5,  6,  7,  8,  9, 10, 11, 12, 13, 14, 15,\n",
              "        16, 17, 18, 19, 20, 21, 22, 23]])"
            ]
          },
          "metadata": {},
          "execution_count": 26
        }
      ]
    },
    {
      "cell_type": "code",
      "source": [
        "A, A.flatten()  # 将数组展开成一维形式"
      ],
      "metadata": {
        "colab": {
          "base_uri": "https://localhost:8080/"
        },
        "id": "FXMaRP_PWH2B",
        "outputId": "796efa1b-b4dd-4449-d061-744f0b021427"
      },
      "execution_count": 27,
      "outputs": [
        {
          "output_type": "execute_result",
          "data": {
            "text/plain": [
              "(array([[[ 0,  1,  2,  3,  4,  5],\n",
              "         [ 6,  7,  8,  9, 10, 11]],\n",
              " \n",
              "        [[12, 13, 14, 15, 16, 17],\n",
              "         [18, 19, 20, 21, 22, 23]]]),\n",
              " array([ 0,  1,  2,  3,  4,  5,  6,  7,  8,  9, 10, 11, 12, 13, 14, 15, 16,\n",
              "        17, 18, 19, 20, 21, 22, 23]))"
            ]
          },
          "metadata": {},
          "execution_count": 27
        }
      ]
    },
    {
      "cell_type": "markdown",
      "source": [
        "**2. 数组的计算**"
      ],
      "metadata": {
        "id": "BZlnO122dp_D"
      }
    },
    {
      "cell_type": "code",
      "source": [
        "x = np.arange(12).reshape(2,2,3)\n",
        "x"
      ],
      "metadata": {
        "colab": {
          "base_uri": "https://localhost:8080/"
        },
        "id": "zzd9cydxX2uP",
        "outputId": "48cef77e-a46c-400b-9f1c-b0ed8f25d316"
      },
      "execution_count": 28,
      "outputs": [
        {
          "output_type": "execute_result",
          "data": {
            "text/plain": [
              "array([[[ 0,  1,  2],\n",
              "        [ 3,  4,  5]],\n",
              "\n",
              "       [[ 6,  7,  8],\n",
              "        [ 9, 10, 11]]])"
            ]
          },
          "metadata": {},
          "execution_count": 28
        }
      ]
    },
    {
      "cell_type": "markdown",
      "source": [
        "* 数组与标量的计算"
      ],
      "metadata": {
        "id": "devLLrCEjvvA"
      }
    },
    {
      "cell_type": "code",
      "source": [
        "# 标量和每一个元素进行加减乘除运算\n",
        "x + 2"
      ],
      "metadata": {
        "colab": {
          "base_uri": "https://localhost:8080/"
        },
        "id": "GEIjo3r-fmFU",
        "outputId": "fe8e3137-2efd-46cc-e277-942071012519"
      },
      "execution_count": 29,
      "outputs": [
        {
          "output_type": "execute_result",
          "data": {
            "text/plain": [
              "array([[[ 2,  3,  4],\n",
              "        [ 5,  6,  7]],\n",
              "\n",
              "       [[ 8,  9, 10],\n",
              "        [11, 12, 13]]])"
            ]
          },
          "metadata": {},
          "execution_count": 29
        }
      ]
    },
    {
      "cell_type": "code",
      "source": [
        "x * 2"
      ],
      "metadata": {
        "colab": {
          "base_uri": "https://localhost:8080/"
        },
        "id": "ZeaBdn3whVHr",
        "outputId": "74fc4375-a5df-4951-bd2e-1d493f048d6e"
      },
      "execution_count": 30,
      "outputs": [
        {
          "output_type": "execute_result",
          "data": {
            "text/plain": [
              "array([[[ 0,  2,  4],\n",
              "        [ 6,  8, 10]],\n",
              "\n",
              "       [[12, 14, 16],\n",
              "        [18, 20, 22]]])"
            ]
          },
          "metadata": {},
          "execution_count": 30
        }
      ]
    },
    {
      "cell_type": "markdown",
      "source": [
        "* 数组与数组的计算"
      ],
      "metadata": {
        "id": "Rr4nlzywjsjo"
      }
    },
    {
      "cell_type": "code",
      "source": [
        "y = np.array([[[1,1,1],[1,1,1]], [[2,2,2],[2,2,2]]])\n",
        "y"
      ],
      "metadata": {
        "colab": {
          "base_uri": "https://localhost:8080/"
        },
        "id": "bop_lm-ofkv8",
        "outputId": "edf741fa-5a0a-42f4-f877-d9afc6ce9941"
      },
      "execution_count": 31,
      "outputs": [
        {
          "output_type": "execute_result",
          "data": {
            "text/plain": [
              "array([[[1, 1, 1],\n",
              "        [1, 1, 1]],\n",
              "\n",
              "       [[2, 2, 2],\n",
              "        [2, 2, 2]]])"
            ]
          },
          "metadata": {},
          "execution_count": 31
        }
      ]
    },
    {
      "cell_type": "code",
      "source": [
        "# 加减乘除表示的是，对应元素的运算\n",
        "x + y"
      ],
      "metadata": {
        "colab": {
          "base_uri": "https://localhost:8080/"
        },
        "id": "6C2d93QJv7U9",
        "outputId": "18b2fe25-d7f0-411e-d372-301cc3e6e05d"
      },
      "execution_count": 32,
      "outputs": [
        {
          "output_type": "execute_result",
          "data": {
            "text/plain": [
              "array([[[ 1,  2,  3],\n",
              "        [ 4,  5,  6]],\n",
              "\n",
              "       [[ 8,  9, 10],\n",
              "        [11, 12, 13]]])"
            ]
          },
          "metadata": {},
          "execution_count": 32
        }
      ]
    },
    {
      "cell_type": "code",
      "source": [
        "x * y"
      ],
      "metadata": {
        "colab": {
          "base_uri": "https://localhost:8080/"
        },
        "id": "sgZUPL5_xaqQ",
        "outputId": "cfb26998-bb4b-4c2f-df54-db098e1fe30b"
      },
      "execution_count": 33,
      "outputs": [
        {
          "output_type": "execute_result",
          "data": {
            "text/plain": [
              "array([[[ 0,  1,  2],\n",
              "        [ 3,  4,  5]],\n",
              "\n",
              "       [[12, 14, 16],\n",
              "        [18, 20, 22]]])"
            ]
          },
          "metadata": {},
          "execution_count": 33
        }
      ]
    },
    {
      "cell_type": "code",
      "source": [
        "# 广播机制\n",
        "A = np.arange(6)\n",
        "A"
      ],
      "metadata": {
        "colab": {
          "base_uri": "https://localhost:8080/"
        },
        "id": "riaY3iaCzbr8",
        "outputId": "a032e764-e68f-4c56-d3c7-6864dd6939bd"
      },
      "execution_count": 34,
      "outputs": [
        {
          "output_type": "execute_result",
          "data": {
            "text/plain": [
              "array([0, 1, 2, 3, 4, 5])"
            ]
          },
          "metadata": {},
          "execution_count": 34
        }
      ]
    },
    {
      "cell_type": "code",
      "source": [
        "B = np.ones((4,6), dtype = np.int32)\n",
        "B"
      ],
      "metadata": {
        "colab": {
          "base_uri": "https://localhost:8080/"
        },
        "id": "PA0X4tvLznme",
        "outputId": "adfa0e4d-c2d9-4acc-dea2-4bcb1d2a042d"
      },
      "execution_count": 35,
      "outputs": [
        {
          "output_type": "execute_result",
          "data": {
            "text/plain": [
              "array([[1, 1, 1, 1, 1, 1],\n",
              "       [1, 1, 1, 1, 1, 1],\n",
              "       [1, 1, 1, 1, 1, 1],\n",
              "       [1, 1, 1, 1, 1, 1]], dtype=int32)"
            ]
          },
          "metadata": {},
          "execution_count": 35
        }
      ]
    },
    {
      "cell_type": "code",
      "source": [
        "A + B # 即 A 会自动填充至和 B 相同的形状之后进行运算"
      ],
      "metadata": {
        "colab": {
          "base_uri": "https://localhost:8080/"
        },
        "id": "EMLiQAu8z4Nd",
        "outputId": "94f4b32a-1ebc-47ee-f0ed-186ca63c39c4"
      },
      "execution_count": 36,
      "outputs": [
        {
          "output_type": "execute_result",
          "data": {
            "text/plain": [
              "array([[1, 2, 3, 4, 5, 6],\n",
              "       [1, 2, 3, 4, 5, 6],\n",
              "       [1, 2, 3, 4, 5, 6],\n",
              "       [1, 2, 3, 4, 5, 6]])"
            ]
          },
          "metadata": {},
          "execution_count": 36
        }
      ]
    },
    {
      "cell_type": "markdown",
      "source": [
        "**2.1 np.dot()**"
      ],
      "metadata": {
        "id": "9B2Oa5dFizow"
      }
    },
    {
      "cell_type": "markdown",
      "source": [
        "* **向量内积**"
      ],
      "metadata": {
        "id": "E6hfpM73jFdV"
      }
    },
    {
      "cell_type": "code",
      "source": [
        "x = np.array([1, 2, 3, 4, 5, 6, 7])\n",
        "y = np.array([2, 3, 4, 5, 6, 7, 8])\n",
        "\n",
        "np.dot(x, y)"
      ],
      "metadata": {
        "colab": {
          "base_uri": "https://localhost:8080/"
        },
        "id": "5RC8fWKFjF-7",
        "outputId": "34023ad5-bb4d-4c7c-8b9f-db64e1b55b29"
      },
      "execution_count": 37,
      "outputs": [
        {
          "output_type": "execute_result",
          "data": {
            "text/plain": [
              "168"
            ]
          },
          "metadata": {},
          "execution_count": 37
        }
      ]
    },
    {
      "cell_type": "code",
      "source": [
        "# 等价于向量的对应元素乘法，然后求和\n",
        "(x*y).sum()"
      ],
      "metadata": {
        "id": "xhiODCQDjGY8",
        "colab": {
          "base_uri": "https://localhost:8080/"
        },
        "outputId": "49b5c6e0-43fc-4414-8d5d-d762b3b93ac8"
      },
      "execution_count": 38,
      "outputs": [
        {
          "output_type": "execute_result",
          "data": {
            "text/plain": [
              "168"
            ]
          },
          "metadata": {},
          "execution_count": 38
        }
      ]
    },
    {
      "cell_type": "code",
      "source": [
        "x.shape, y.shape"
      ],
      "metadata": {
        "id": "O9qBMqDzjTJX",
        "colab": {
          "base_uri": "https://localhost:8080/"
        },
        "outputId": "348f09fc-1a1f-46d7-c470-81044760ccb9"
      },
      "execution_count": 39,
      "outputs": [
        {
          "output_type": "execute_result",
          "data": {
            "text/plain": [
              "((7,), (7,))"
            ]
          },
          "metadata": {},
          "execution_count": 39
        }
      ]
    },
    {
      "cell_type": "markdown",
      "source": [
        "* **矩阵乘法**"
      ],
      "metadata": {
        "id": "sgw3_ybajGfu"
      }
    },
    {
      "cell_type": "code",
      "source": [
        "x = np.array([[1, 2, 3],\n",
        "              [3, 4, 4]])\n",
        "y = np.array([[0, 1, 1, 1],\n",
        "              [1, 2, 0, 1],\n",
        "              [0, 0, 2, 1]])\n",
        "\n",
        "np.dot(x, y)"
      ],
      "metadata": {
        "colab": {
          "base_uri": "https://localhost:8080/"
        },
        "id": "E_7D8DPNjXTP",
        "outputId": "1c4f5c43-6dbd-4052-cdf6-44c0b0944e25"
      },
      "execution_count": 40,
      "outputs": [
        {
          "output_type": "execute_result",
          "data": {
            "text/plain": [
              "array([[ 2,  5,  7,  6],\n",
              "       [ 4, 11, 11, 11]])"
            ]
          },
          "metadata": {},
          "execution_count": 40
        }
      ]
    },
    {
      "cell_type": "code",
      "source": [
        "x.shape, y.shape, np.dot(x, y).shape"
      ],
      "metadata": {
        "colab": {
          "base_uri": "https://localhost:8080/"
        },
        "id": "h2YlaAvKjbxD",
        "outputId": "53c02feb-a902-4abe-a5d7-0b87d4c6cbac"
      },
      "execution_count": 41,
      "outputs": [
        {
          "output_type": "execute_result",
          "data": {
            "text/plain": [
              "((2, 3), (3, 4), (2, 4))"
            ]
          },
          "metadata": {},
          "execution_count": 41
        }
      ]
    },
    {
      "cell_type": "markdown",
      "source": [
        "* **矩阵向量乘法**"
      ],
      "metadata": {
        "id": "LcAXd6Pejcuo"
      }
    },
    {
      "cell_type": "code",
      "source": [
        "x = np.array([[1, 2, 3],\n",
        "              [3, 4, 4]])\n",
        "y = np.array([1, 2, 3])\n",
        "\n",
        "np.dot(x, y)"
      ],
      "metadata": {
        "colab": {
          "base_uri": "https://localhost:8080/"
        },
        "id": "UoRKb9QOjflP",
        "outputId": "4019edf4-634c-4d8a-9b08-e6e877e5eba1"
      },
      "execution_count": 42,
      "outputs": [
        {
          "output_type": "execute_result",
          "data": {
            "text/plain": [
              "array([14, 23])"
            ]
          },
          "metadata": {},
          "execution_count": 42
        }
      ]
    },
    {
      "cell_type": "code",
      "source": [
        "x.shape, y.shape"
      ],
      "metadata": {
        "colab": {
          "base_uri": "https://localhost:8080/"
        },
        "id": "St3sxmSijhCr",
        "outputId": "3ed69433-85ad-47b4-baf8-e7583dbd4c2a"
      },
      "execution_count": 43,
      "outputs": [
        {
          "output_type": "execute_result",
          "data": {
            "text/plain": [
              "((2, 3), (3,))"
            ]
          },
          "metadata": {},
          "execution_count": 43
        }
      ]
    },
    {
      "cell_type": "markdown",
      "source": [
        "**2.2 np.power()**"
      ],
      "metadata": {
        "id": "bcyJB9Vcj8e5"
      }
    },
    {
      "cell_type": "markdown",
      "source": [
        "* np.power( )用于数组元素求n次方"
      ],
      "metadata": {
        "id": "Km_yRhjHkIl5"
      }
    },
    {
      "cell_type": "code",
      "source": [
        "x1 = 2\n",
        "x2 = 3\n",
        "np.power(x1,x2)\n",
        "\n",
        "# x1和x2可以是整数类型或数组或者array类型，x1和x2的列数要相同"
      ],
      "metadata": {
        "colab": {
          "base_uri": "https://localhost:8080/"
        },
        "id": "MzH-6kvWj70I",
        "outputId": "d265151b-22dd-4bf8-9216-c54d6a14d871"
      },
      "execution_count": 44,
      "outputs": [
        {
          "output_type": "execute_result",
          "data": {
            "text/plain": [
              "8"
            ]
          },
          "metadata": {},
          "execution_count": 44
        }
      ]
    },
    {
      "cell_type": "code",
      "source": [
        "x1 = np.array([[0,1],[2,3]])\n",
        "x2 = np.array([[3,4],[4,5]])\n",
        "np.power(x1,x2) \n",
        "\n",
        "# 相应位置的前者的后者次方(x1[i,j]**x2[i,j])"
      ],
      "metadata": {
        "colab": {
          "base_uri": "https://localhost:8080/"
        },
        "id": "ZHdvL57ckp2C",
        "outputId": "6460f82e-eb56-44e9-8ca8-e214c3b2cd68"
      },
      "execution_count": 45,
      "outputs": [
        {
          "output_type": "execute_result",
          "data": {
            "text/plain": [
              "array([[  0,   1],\n",
              "       [ 16, 243]])"
            ]
          },
          "metadata": {},
          "execution_count": 45
        }
      ]
    },
    {
      "cell_type": "markdown",
      "source": [
        "**2.3 转置**"
      ],
      "metadata": {
        "id": "zKwGJqRglCzZ"
      }
    },
    {
      "cell_type": "code",
      "source": [
        "x = np.arange(18).reshape(3,6)\n",
        "x"
      ],
      "metadata": {
        "colab": {
          "base_uri": "https://localhost:8080/"
        },
        "id": "lksp3Le7lEg_",
        "outputId": "0c35d00d-d535-49a7-c4fd-808cd42e7167"
      },
      "execution_count": 48,
      "outputs": [
        {
          "output_type": "execute_result",
          "data": {
            "text/plain": [
              "array([[ 0,  1,  2,  3,  4,  5],\n",
              "       [ 6,  7,  8,  9, 10, 11],\n",
              "       [12, 13, 14, 15, 16, 17]])"
            ]
          },
          "metadata": {},
          "execution_count": 48
        }
      ]
    },
    {
      "cell_type": "code",
      "source": [
        "x.T"
      ],
      "metadata": {
        "colab": {
          "base_uri": "https://localhost:8080/"
        },
        "id": "6a0zyiMAlYl6",
        "outputId": "afc9ac3c-06d2-430b-cacb-fa676f9cc701"
      },
      "execution_count": 50,
      "outputs": [
        {
          "output_type": "execute_result",
          "data": {
            "text/plain": [
              "array([[ 0,  6, 12],\n",
              "       [ 1,  7, 13],\n",
              "       [ 2,  8, 14],\n",
              "       [ 3,  9, 15],\n",
              "       [ 4, 10, 16],\n",
              "       [ 5, 11, 17]])"
            ]
          },
          "metadata": {},
          "execution_count": 50
        }
      ]
    },
    {
      "cell_type": "code",
      "source": [
        "x.transpose()"
      ],
      "metadata": {
        "colab": {
          "base_uri": "https://localhost:8080/"
        },
        "id": "L6Onrolklbor",
        "outputId": "22219133-d03a-4cb7-9d2a-0cc86d68b450"
      },
      "execution_count": 51,
      "outputs": [
        {
          "output_type": "execute_result",
          "data": {
            "text/plain": [
              "array([[ 0,  6, 12],\n",
              "       [ 1,  7, 13],\n",
              "       [ 2,  8, 14],\n",
              "       [ 3,  9, 15],\n",
              "       [ 4, 10, 16],\n",
              "       [ 5, 11, 17]])"
            ]
          },
          "metadata": {},
          "execution_count": 51
        }
      ]
    },
    {
      "cell_type": "code",
      "source": [
        "x.swapaxes(1,0)"
      ],
      "metadata": {
        "colab": {
          "base_uri": "https://localhost:8080/"
        },
        "id": "0h2telrEle5y",
        "outputId": "b9d01cc5-8be9-4fb8-ea37-4710b4aab0ad"
      },
      "execution_count": 52,
      "outputs": [
        {
          "output_type": "execute_result",
          "data": {
            "text/plain": [
              "array([[ 0,  6, 12],\n",
              "       [ 1,  7, 13],\n",
              "       [ 2,  8, 14],\n",
              "       [ 3,  9, 15],\n",
              "       [ 4, 10, 16],\n",
              "       [ 5, 11, 17]])"
            ]
          },
          "metadata": {},
          "execution_count": 52
        }
      ]
    }
  ]
}