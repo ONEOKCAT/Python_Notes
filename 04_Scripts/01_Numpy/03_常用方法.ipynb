{
  "nbformat": 4,
  "nbformat_minor": 0,
  "metadata": {
    "colab": {
      "name": "03_常用方法.ipynb",
      "provenance": [],
      "collapsed_sections": []
    },
    "kernelspec": {
      "name": "python3",
      "display_name": "Python 3"
    },
    "language_info": {
      "name": "python"
    }
  },
  "cells": [
    {
      "cell_type": "markdown",
      "source": [
        "**# 常用方法**"
      ],
      "metadata": {
        "id": "2zl3I9ZXB-1p"
      }
    },
    {
      "cell_type": "markdown",
      "source": [
        "**数组拼接**"
      ],
      "metadata": {
        "id": "iMLSoSQ0zI3K"
      }
    },
    {
      "cell_type": "code",
      "execution_count": null,
      "metadata": {
        "colab": {
          "base_uri": "https://localhost:8080/"
        },
        "id": "B7sI5HOpoNRy",
        "outputId": "fbdd485c-12f4-41f1-8bb2-1ae4316502fd"
      },
      "outputs": [
        {
          "output_type": "execute_result",
          "data": {
            "text/plain": [
              "array([[ 0,  1,  2,  3,  4,  5],\n",
              "       [ 6,  7,  8,  9, 10, 11]])"
            ]
          },
          "metadata": {},
          "execution_count": 53
        }
      ],
      "source": [
        "import numpy as np\n",
        "\n",
        "a = np.arange(12).reshape(2,6)\n",
        "a"
      ]
    },
    {
      "cell_type": "code",
      "source": [
        "b = np.arange(12,24).reshape(2,6)\n",
        "b"
      ],
      "metadata": {
        "colab": {
          "base_uri": "https://localhost:8080/"
        },
        "id": "0d-r_-Uuzjkh",
        "outputId": "b73a831a-f45f-4dbf-801f-0a9b76e8b0d4"
      },
      "execution_count": null,
      "outputs": [
        {
          "output_type": "execute_result",
          "data": {
            "text/plain": [
              "array([[12, 13, 14, 15, 16, 17],\n",
              "       [18, 19, 20, 21, 22, 23]])"
            ]
          },
          "metadata": {},
          "execution_count": 6
        }
      ]
    },
    {
      "cell_type": "code",
      "source": [
        "np.vstack((a,b))   # 垂直拼接"
      ],
      "metadata": {
        "colab": {
          "base_uri": "https://localhost:8080/"
        },
        "id": "dULw7XCOz8rg",
        "outputId": "72f0bf84-c03d-45ac-fdc3-442069b035b4"
      },
      "execution_count": null,
      "outputs": [
        {
          "output_type": "execute_result",
          "data": {
            "text/plain": [
              "array([[ 0,  1,  2,  3,  4,  5],\n",
              "       [ 6,  7,  8,  9, 10, 11],\n",
              "       [12, 13, 14, 15, 16, 17],\n",
              "       [18, 19, 20, 21, 22, 23]])"
            ]
          },
          "metadata": {},
          "execution_count": 8
        }
      ]
    },
    {
      "cell_type": "code",
      "source": [
        "np.hstack((a,b))   # 水平拼接"
      ],
      "metadata": {
        "colab": {
          "base_uri": "https://localhost:8080/"
        },
        "id": "QIkJZTO5z84v",
        "outputId": "369a7eac-2084-4ee0-fe7e-d9fd4cf6bfb2"
      },
      "execution_count": null,
      "outputs": [
        {
          "output_type": "execute_result",
          "data": {
            "text/plain": [
              "array([[ 0,  1,  2,  3,  4,  5, 12, 13, 14, 15, 16, 17],\n",
              "       [ 6,  7,  8,  9, 10, 11, 18, 19, 20, 21, 22, 23]])"
            ]
          },
          "metadata": {},
          "execution_count": 9
        }
      ]
    },
    {
      "cell_type": "markdown",
      "source": [
        "**行列交换**"
      ],
      "metadata": {
        "id": "xKyZcE5x_MYz"
      }
    },
    {
      "cell_type": "code",
      "source": [
        "a = np.arange(12).reshape(3,4)\n",
        "a"
      ],
      "metadata": {
        "colab": {
          "base_uri": "https://localhost:8080/"
        },
        "id": "VMCDvhoD10xg",
        "outputId": "9f1fc28d-3937-4bae-9846-57bf87100db7"
      },
      "execution_count": null,
      "outputs": [
        {
          "output_type": "execute_result",
          "data": {
            "text/plain": [
              "array([[ 0,  1,  2,  3],\n",
              "       [ 4,  5,  6,  7],\n",
              "       [ 8,  9, 10, 11]])"
            ]
          },
          "metadata": {},
          "execution_count": 21
        }
      ]
    },
    {
      "cell_type": "code",
      "source": [
        "a[[1,2],:] = a[[2,1],:]   # 行交换\n",
        "a"
      ],
      "metadata": {
        "colab": {
          "base_uri": "https://localhost:8080/"
        },
        "id": "a0TuIr7s2EJB",
        "outputId": "b09e6af8-2ed8-4129-895a-f623352512f6"
      },
      "execution_count": null,
      "outputs": [
        {
          "output_type": "execute_result",
          "data": {
            "text/plain": [
              "array([[ 0,  1,  2,  3],\n",
              "       [ 8,  9, 10, 11],\n",
              "       [ 4,  5,  6,  7]])"
            ]
          },
          "metadata": {},
          "execution_count": 22
        }
      ]
    },
    {
      "cell_type": "code",
      "source": [
        "a[:,[0,1]] = a[:,[1,0]]   # 列交换\n",
        "a"
      ],
      "metadata": {
        "colab": {
          "base_uri": "https://localhost:8080/"
        },
        "id": "J9cqrs1p_OPR",
        "outputId": "a197eb48-1c9b-4dc2-d2ea-0fb4039f0b55"
      },
      "execution_count": null,
      "outputs": [
        {
          "output_type": "execute_result",
          "data": {
            "text/plain": [
              "array([[ 1,  0,  2,  3],\n",
              "       [ 9,  8, 10, 11],\n",
              "       [ 5,  4,  6,  7]])"
            ]
          },
          "metadata": {},
          "execution_count": 23
        }
      ]
    },
    {
      "cell_type": "markdown",
      "source": [
        "**快速创建**"
      ],
      "metadata": {
        "id": "7o_0HyIiDyhh"
      }
    },
    {
      "cell_type": "code",
      "source": [
        "# 创建全为0的数组   \n",
        "a = np.zeros((3,4))\n",
        "a"
      ],
      "metadata": {
        "colab": {
          "base_uri": "https://localhost:8080/"
        },
        "id": "Z4cYOJQyE9Jg",
        "outputId": "dab76956-fd62-4105-fbc1-ea57c81d0346"
      },
      "execution_count": null,
      "outputs": [
        {
          "output_type": "execute_result",
          "data": {
            "text/plain": [
              "array([[0., 0., 0., 0.],\n",
              "       [0., 0., 0., 0.],\n",
              "       [0., 0., 0., 0.]])"
            ]
          },
          "metadata": {},
          "execution_count": 30
        }
      ]
    },
    {
      "cell_type": "code",
      "source": [
        "# 创建全为1的数组\n",
        "b = np.ones((3,4))\n",
        "b"
      ],
      "metadata": {
        "id": "LyAKwKvME9aL",
        "colab": {
          "base_uri": "https://localhost:8080/"
        },
        "outputId": "d5cf0426-feea-4533-a924-ebbd6e1031e8"
      },
      "execution_count": null,
      "outputs": [
        {
          "output_type": "execute_result",
          "data": {
            "text/plain": [
              "array([[1., 1., 1., 1.],\n",
              "       [1., 1., 1., 1.],\n",
              "       [1., 1., 1., 1.]])"
            ]
          },
          "metadata": {},
          "execution_count": 5
        }
      ]
    },
    {
      "cell_type": "code",
      "source": [
        "# 创建对角线为1的正方形数组\n",
        "c = np.eye(3)\n",
        "c"
      ],
      "metadata": {
        "id": "wqn2CUicDyIx",
        "colab": {
          "base_uri": "https://localhost:8080/"
        },
        "outputId": "e82371d2-4b80-4e9a-d661-14c8ebf7ea69"
      },
      "execution_count": null,
      "outputs": [
        {
          "output_type": "execute_result",
          "data": {
            "text/plain": [
              "array([[1., 0., 0.],\n",
              "       [0., 1., 0.],\n",
              "       [0., 0., 1.]])"
            ]
          },
          "metadata": {},
          "execution_count": 6
        }
      ]
    },
    {
      "cell_type": "markdown",
      "source": [
        "**获取最大最小值**"
      ],
      "metadata": {
        "id": "mqRnYqCnCD7H"
      }
    },
    {
      "cell_type": "code",
      "source": [
        "a = np.eye(4)\n",
        "a"
      ],
      "metadata": {
        "colab": {
          "base_uri": "https://localhost:8080/"
        },
        "id": "ib-P74KnCMJc",
        "outputId": "f077d7fd-b5af-42b7-d0cf-e31e28b790c4"
      },
      "execution_count": null,
      "outputs": [
        {
          "output_type": "execute_result",
          "data": {
            "text/plain": [
              "array([[1., 0., 0., 0.],\n",
              "       [0., 1., 0., 0.],\n",
              "       [0., 0., 1., 0.],\n",
              "       [0., 0., 0., 1.]])"
            ]
          },
          "metadata": {},
          "execution_count": 10
        }
      ]
    },
    {
      "cell_type": "code",
      "source": [
        "np.argmax(a, axis=0) # 返回每行的最大值位置"
      ],
      "metadata": {
        "colab": {
          "base_uri": "https://localhost:8080/"
        },
        "id": "eoUwDIP2CQ6u",
        "outputId": "c863f35d-3f0a-42bc-a0c6-0dc7e1824a72"
      },
      "execution_count": null,
      "outputs": [
        {
          "output_type": "execute_result",
          "data": {
            "text/plain": [
              "array([0, 1, 2, 3])"
            ]
          },
          "metadata": {},
          "execution_count": 8
        }
      ]
    },
    {
      "cell_type": "code",
      "source": [
        "np.argmin(a, axis=1) # 返回每列的最小值位置(位置靠前优先)"
      ],
      "metadata": {
        "colab": {
          "base_uri": "https://localhost:8080/"
        },
        "id": "rtCamoK9CZy8",
        "outputId": "51a1b958-509f-41c6-8c5b-25fa2a62315b"
      },
      "execution_count": null,
      "outputs": [
        {
          "output_type": "execute_result",
          "data": {
            "text/plain": [
              "array([1, 0, 0, 0])"
            ]
          },
          "metadata": {},
          "execution_count": 11
        }
      ]
    },
    {
      "cell_type": "markdown",
      "source": [
        "**生成随机数**"
      ],
      "metadata": {
        "id": "0dgd9Lsdwhd3"
      }
    },
    {
      "cell_type": "code",
      "source": [
        "# 创建n维的均匀分布的随机数数组，浮点数，范围0-1\n",
        "\n",
        "np.random.rand(1,2,3)   "
      ],
      "metadata": {
        "colab": {
          "base_uri": "https://localhost:8080/"
        },
        "id": "jze3Kg6BwhCk",
        "outputId": "7bd3bf87-c32b-4c6e-bec4-95cd3efd9fcf"
      },
      "execution_count": null,
      "outputs": [
        {
          "output_type": "execute_result",
          "data": {
            "text/plain": [
              "array([[[0.47014997, 0.75889007, 0.75323021],\n",
              "        [0.24964146, 0.61134234, 0.96709655]]])"
            ]
          },
          "metadata": {},
          "execution_count": 20
        }
      ]
    },
    {
      "cell_type": "code",
      "source": [
        "# 创建n维的标准正态分布随机数，浮点数，平均数0，标准差1\n",
        "\n",
        "np.random.randn(1,2,3) "
      ],
      "metadata": {
        "colab": {
          "base_uri": "https://localhost:8080/"
        },
        "id": "CVmIPcx5xkYo",
        "outputId": "5e587a0f-2d4c-4a51-de82-b419578b3e1e"
      },
      "execution_count": null,
      "outputs": [
        {
          "output_type": "execute_result",
          "data": {
            "text/plain": [
              "array([[[-1.30080955, -1.47834642, -0.24659441],\n",
              "        [ 1.82981256, -1.74659967,  1.71427025]]])"
            ]
          },
          "metadata": {},
          "execution_count": 21
        }
      ]
    },
    {
      "cell_type": "code",
      "source": [
        "# 从给定上下限范围选取随机数整数\n",
        "\n",
        "np.random.randint(-2, 1, (3,4))   # 范围是-2到1(左闭右开)，形状为(3，4) "
      ],
      "metadata": {
        "colab": {
          "base_uri": "https://localhost:8080/"
        },
        "id": "fQli_TgKyIXe",
        "outputId": "a46890d1-5bb0-47fc-b04c-4b98f6dc6744"
      },
      "execution_count": null,
      "outputs": [
        {
          "output_type": "execute_result",
          "data": {
            "text/plain": [
              "array([[-2, -2, -2,  0],\n",
              "       [ 0,  0, -1,  0],\n",
              "       [-1, -1,  0, -1]])"
            ]
          },
          "metadata": {},
          "execution_count": 43
        }
      ]
    },
    {
      "cell_type": "code",
      "source": [
        "# 产生具有均匀分布的数组\n",
        "\n",
        "np.random.uniform(-2, 2, (3,4))  # 范围是-2到2，形状为(3，4)"
      ],
      "metadata": {
        "colab": {
          "base_uri": "https://localhost:8080/"
        },
        "id": "dlngEUx0ymT3",
        "outputId": "cb6f1cd1-7991-4e20-9176-2082fce7353e"
      },
      "execution_count": null,
      "outputs": [
        {
          "output_type": "execute_result",
          "data": {
            "text/plain": [
              "array([[-0.78303103,  0.09902573, -0.27221993, -0.83508344],\n",
              "       [ 0.44741158, -1.44202456, -0.83142141, -0.53455263],\n",
              "       [-0.17572006,  1.14070385, -1.20130487,  0.05693775]])"
            ]
          },
          "metadata": {},
          "execution_count": 35
        }
      ]
    },
    {
      "cell_type": "code",
      "source": [
        "# 从指定正态分布中随机抽取样本\n",
        "\n",
        "np.random.normal(2, 1, (3,4))   # 分布中心为2，标准差为1，形状为(3,4)"
      ],
      "metadata": {
        "colab": {
          "base_uri": "https://localhost:8080/"
        },
        "id": "apmJLoLQzHm0",
        "outputId": "d940b66f-0cc2-4293-dab7-241ed593ba32"
      },
      "execution_count": null,
      "outputs": [
        {
          "output_type": "execute_result",
          "data": {
            "text/plain": [
              "array([[1.45561728, 2.11092259, 0.84900642, 2.37569802],\n",
              "       [1.39936131, 1.70830625, 1.39829339, 3.85227818],\n",
              "       [1.98650278, 0.94228907, 2.82254491, 0.77915635]])"
            ]
          },
          "metadata": {},
          "execution_count": 36
        }
      ]
    },
    {
      "cell_type": "code",
      "source": [
        "# 随机数种子, 保证每次随机结果一致\n",
        "\n",
        "np.random.seed(42)\n",
        "np.random.randint(-2, 1, (3,4)) "
      ],
      "metadata": {
        "colab": {
          "base_uri": "https://localhost:8080/"
        },
        "id": "3tnOqh_uzijA",
        "outputId": "c2cfc86e-d613-4e2c-f5db-cb1af2b98d0d"
      },
      "execution_count": null,
      "outputs": [
        {
          "output_type": "execute_result",
          "data": {
            "text/plain": [
              "array([[ 0, -2,  0,  0],\n",
              "       [-2, -2,  0, -1],\n",
              "       [ 0,  0,  0,  0]])"
            ]
          },
          "metadata": {},
          "execution_count": 41
        }
      ]
    },
    {
      "cell_type": "markdown",
      "source": [
        "**关于拷贝**"
      ],
      "metadata": {
        "id": "J7vBkYMO2dDJ"
      }
    },
    {
      "cell_type": "markdown",
      "source": [
        "* 浅拷贝"
      ],
      "metadata": {
        "id": "D8fhubTC3uU0"
      }
    },
    {
      "cell_type": "code",
      "source": [
        "# a = b，完全不复制，a b会互相影响\n",
        "# a = b[:], 视图的操作，会创建新的对象a，但是a的数据完全由b保管，a和b的数据变化是一致的\n",
        "# 上述两种方式，a和b都会互相影响，区别在于后者会产生新的对象\n",
        "\n",
        "a = []\n",
        "b = np.zeros((3,4))\n",
        "a = b\n",
        "b[1,:] = 1\n",
        "a"
      ],
      "metadata": {
        "colab": {
          "base_uri": "https://localhost:8080/"
        },
        "id": "ajYWPHZP2fKN",
        "outputId": "1d5a495a-672a-42e8-a1c2-572088d9c3ae"
      },
      "execution_count": null,
      "outputs": [
        {
          "output_type": "execute_result",
          "data": {
            "text/plain": [
              "array([[0., 0., 0., 0.],\n",
              "       [1., 1., 1., 1.],\n",
              "       [0., 0., 0., 0.]])"
            ]
          },
          "metadata": {},
          "execution_count": 66
        }
      ]
    },
    {
      "cell_type": "code",
      "source": [
        "a[0,:] = 2\n",
        "b"
      ],
      "metadata": {
        "colab": {
          "base_uri": "https://localhost:8080/"
        },
        "id": "4pWg4QRD3L8X",
        "outputId": "5b3119df-2d13-4a24-c575-aef43e742ee4"
      },
      "execution_count": null,
      "outputs": [
        {
          "output_type": "execute_result",
          "data": {
            "text/plain": [
              "array([[2., 2., 2., 2.],\n",
              "       [1., 1., 1., 1.],\n",
              "       [0., 0., 0., 0.]])"
            ]
          },
          "metadata": {},
          "execution_count": 57
        }
      ]
    },
    {
      "cell_type": "markdown",
      "source": [
        "* 深拷贝"
      ],
      "metadata": {
        "id": "d194ohfa3xlp"
      }
    },
    {
      "cell_type": "code",
      "source": [
        "# .copy()操作，a和b互不影响\n",
        "\n",
        "b = np.zeros((3,4))\n",
        "a = b.copy()\n",
        "b[1,:] = 1\n",
        "a"
      ],
      "metadata": {
        "colab": {
          "base_uri": "https://localhost:8080/"
        },
        "id": "mlcI7zj83Rp9",
        "outputId": "c36cd7b4-d4a5-4c48-d2aa-17d7220ef448"
      },
      "execution_count": null,
      "outputs": [
        {
          "output_type": "execute_result",
          "data": {
            "text/plain": [
              "array([[0., 0., 0., 0.],\n",
              "       [0., 0., 0., 0.],\n",
              "       [0., 0., 0., 0.]])"
            ]
          },
          "metadata": {},
          "execution_count": 65
        }
      ]
    },
    {
      "cell_type": "markdown",
      "source": [
        "**常用统计函数**"
      ],
      "metadata": {
        "id": "o9HJHBnT3OAn"
      }
    },
    {
      "cell_type": "code",
      "source": [
        "a = np.arange(24).reshape(4,6)\n",
        "a"
      ],
      "metadata": {
        "colab": {
          "base_uri": "https://localhost:8080/"
        },
        "id": "0BDkq17Z3Twj",
        "outputId": "cb110fe1-e229-408c-cc60-8fdb5c2180e0"
      },
      "execution_count": null,
      "outputs": [
        {
          "output_type": "execute_result",
          "data": {
            "text/plain": [
              "array([[ 0,  1,  2,  3,  4,  5],\n",
              "       [ 6,  7,  8,  9, 10, 11],\n",
              "       [12, 13, 14, 15, 16, 17],\n",
              "       [18, 19, 20, 21, 22, 23]])"
            ]
          },
          "metadata": {},
          "execution_count": 18
        }
      ]
    },
    {
      "cell_type": "code",
      "source": [
        "# (按行/列)求和 - 方式1\n",
        "\n",
        "np.sum(a), np.sum(a, axis=0), np.sum(a, axis=1)"
      ],
      "metadata": {
        "colab": {
          "base_uri": "https://localhost:8080/"
        },
        "id": "Euue-7sJ3QRd",
        "outputId": "2136a2fb-57ad-4a75-f5c3-d0aa7b96f841"
      },
      "execution_count": null,
      "outputs": [
        {
          "output_type": "execute_result",
          "data": {
            "text/plain": [
              "(276, array([36, 40, 44, 48, 52, 56]), array([ 15,  51,  87, 123]))"
            ]
          },
          "metadata": {},
          "execution_count": 41
        }
      ]
    },
    {
      "cell_type": "code",
      "source": [
        "# (按行/列)求和 - 方式2\n",
        "\n",
        "a.sum(), a.sum(axis=0), a.sum(axis=1)"
      ],
      "metadata": {
        "colab": {
          "base_uri": "https://localhost:8080/"
        },
        "id": "EhcgKgT43jwQ",
        "outputId": "39f258d0-2ed6-437b-9f1e-dc75f1d7b9f5"
      },
      "execution_count": null,
      "outputs": [
        {
          "output_type": "execute_result",
          "data": {
            "text/plain": [
              "(276, array([36, 40, 44, 48, 52, 56]), array([ 15,  51,  87, 123]))"
            ]
          },
          "metadata": {},
          "execution_count": 42
        }
      ]
    },
    {
      "cell_type": "code",
      "source": [
        "# (按行列)求均值 - 方式1/2\n",
        "\n",
        "np.mean(a), a.mean(), np.mean(a, axis=0), a.mean(axis=1)"
      ],
      "metadata": {
        "colab": {
          "base_uri": "https://localhost:8080/"
        },
        "id": "GqsDeK18366u",
        "outputId": "8e787728-ce09-4638-b12c-cd348846f13c"
      },
      "execution_count": null,
      "outputs": [
        {
          "output_type": "execute_result",
          "data": {
            "text/plain": [
              "(11.5,\n",
              " 11.5,\n",
              " array([ 9., 10., 11., 12., 13., 14.]),\n",
              " array([ 2.5,  8.5, 14.5, 20.5]))"
            ]
          },
          "metadata": {},
          "execution_count": 46
        }
      ]
    },
    {
      "cell_type": "code",
      "source": [
        "# (按行列)求中值 - 只有如下方式\n",
        "\n",
        "np.median(a), np.median(a, axis=0), np.median(a, axis=1)"
      ],
      "metadata": {
        "colab": {
          "base_uri": "https://localhost:8080/"
        },
        "id": "l92bnBva4P3f",
        "outputId": "64d6d91e-4136-4533-9b63-e755ffe647c2"
      },
      "execution_count": null,
      "outputs": [
        {
          "output_type": "execute_result",
          "data": {
            "text/plain": [
              "(11.5, array([ 9., 10., 11., 12., 13., 14.]), array([ 2.5,  8.5, 14.5, 20.5]))"
            ]
          },
          "metadata": {},
          "execution_count": 45
        }
      ]
    },
    {
      "cell_type": "code",
      "source": [
        "# (按行列)求最大(小)值 - 方式1/2\n",
        "\n",
        "np.max(a), a.min(), np.max(a, axis=0), a.min(axis=1)"
      ],
      "metadata": {
        "colab": {
          "base_uri": "https://localhost:8080/"
        },
        "id": "iY7TuYuy4jnj",
        "outputId": "52e8c1d8-349c-4fd0-ad87-1f28b8b8b023"
      },
      "execution_count": null,
      "outputs": [
        {
          "output_type": "execute_result",
          "data": {
            "text/plain": [
              "(23, 0, array([18, 19, 20, 21, 22, 23]), array([ 0,  6, 12, 18]))"
            ]
          },
          "metadata": {},
          "execution_count": 48
        }
      ]
    },
    {
      "cell_type": "code",
      "source": [
        "# (按行列)极值，即最大最小值之差 - 方式1/2\n",
        "\n",
        "np.ptp(a), a.ptp(), np.ptp(a, axis=0), a.ptp(axis=1)"
      ],
      "metadata": {
        "colab": {
          "base_uri": "https://localhost:8080/"
        },
        "id": "dzn0T6QN5q5t",
        "outputId": "53945958-83a1-4be5-ef18-4ca7a427452a"
      },
      "execution_count": null,
      "outputs": [
        {
          "output_type": "execute_result",
          "data": {
            "text/plain": [
              "(23, 23, array([18, 18, 18, 18, 18, 18]), array([5, 5, 5, 5]))"
            ]
          },
          "metadata": {},
          "execution_count": 50
        }
      ]
    },
    {
      "cell_type": "code",
      "source": [
        "# (按行列)标准差 - 方式1/2\n",
        "\n",
        "np.std(a), a.std(), np.std(a, axis=0), a.std(axis=1)"
      ],
      "metadata": {
        "colab": {
          "base_uri": "https://localhost:8080/"
        },
        "id": "hjmpFZbv6GWg",
        "outputId": "068abfbd-8e06-42ad-a236-6cb15e933026"
      },
      "execution_count": null,
      "outputs": [
        {
          "output_type": "execute_result",
          "data": {
            "text/plain": [
              "(6.922186552431729,\n",
              " 6.922186552431729,\n",
              " array([6.70820393, 6.70820393, 6.70820393, 6.70820393, 6.70820393,\n",
              "        6.70820393]),\n",
              " array([1.70782513, 1.70782513, 1.70782513, 1.70782513]))"
            ]
          },
          "metadata": {},
          "execution_count": 51
        }
      ]
    },
    {
      "cell_type": "markdown",
      "source": [
        "**NAN和INF**"
      ],
      "metadata": {
        "id": "5ntNg9XL40ZZ"
      }
    },
    {
      "cell_type": "markdown",
      "source": [
        "* NAN: not a number。一般，当读取本地文件为float时，如果有缺失，就会出现nan；或者做了一个不合适的计算时，例如$无穷大-无穷大$。\n",
        "\n",
        "* INF: infinity， inf表示正无穷，-inf表示负无穷。比如一个数字除以0，python中直接会报错，numpy中是一个inf或者-inf。"
      ],
      "metadata": {
        "id": "838qAvcg5Eny"
      }
    },
    {
      "cell_type": "code",
      "source": [
        "# 指定一个nan，并查看类型\n",
        "\n",
        "a = np.nan\n",
        "a, type(a)"
      ],
      "metadata": {
        "id": "3tYaQBL35Xai",
        "colab": {
          "base_uri": "https://localhost:8080/"
        },
        "outputId": "e1149b32-33df-4184-c1a7-055e941daef3"
      },
      "execution_count": null,
      "outputs": [
        {
          "output_type": "execute_result",
          "data": {
            "text/plain": [
              "(nan, float)"
            ]
          },
          "metadata": {},
          "execution_count": 3
        }
      ]
    },
    {
      "cell_type": "code",
      "source": [
        "# 指定一个inf，并查看类型\n",
        "\n",
        "a = np.inf\n",
        "a, type(a)"
      ],
      "metadata": {
        "colab": {
          "base_uri": "https://localhost:8080/"
        },
        "id": "R0NsND4uxO7x",
        "outputId": "8f57fd99-c46a-487b-eafc-071842b513c4"
      },
      "execution_count": null,
      "outputs": [
        {
          "output_type": "execute_result",
          "data": {
            "text/plain": [
              "(inf, float)"
            ]
          },
          "metadata": {},
          "execution_count": 4
        }
      ]
    },
    {
      "cell_type": "markdown",
      "source": [
        "* 两个nan是不相等的\n",
        "* 利用以上特性可以判断数组中nan的个数"
      ],
      "metadata": {
        "id": "DYkmpVX0xrAg"
      }
    },
    {
      "cell_type": "code",
      "source": [
        "np.nan != np.nan"
      ],
      "metadata": {
        "colab": {
          "base_uri": "https://localhost:8080/"
        },
        "id": "xIn7vitjyHZ-",
        "outputId": "b76b7f5a-a720-4cc8-e8bb-acfc9ac7bbd2"
      },
      "execution_count": null,
      "outputs": [
        {
          "output_type": "execute_result",
          "data": {
            "text/plain": [
              "True"
            ]
          },
          "metadata": {},
          "execution_count": 5
        }
      ]
    },
    {
      "cell_type": "code",
      "source": [
        "a = np.array([1., 2., 3., np.nan])\n",
        "np.count_nonzero(a != a)"
      ],
      "metadata": {
        "colab": {
          "base_uri": "https://localhost:8080/"
        },
        "id": "9QI5YLI6yKga",
        "outputId": "6cb10128-a984-4c3c-97c8-90bbf0d8ac1c"
      },
      "execution_count": null,
      "outputs": [
        {
          "output_type": "execute_result",
          "data": {
            "text/plain": [
              "1"
            ]
          },
          "metadata": {},
          "execution_count": 7
        }
      ]
    },
    {
      "cell_type": "markdown",
      "source": [
        "* 通过np.isnan()来判断是否为nan，会返回bool类型。也可以通过该方式替换nan。"
      ],
      "metadata": {
        "id": "__fEw7yxyFph"
      }
    },
    {
      "cell_type": "code",
      "source": [
        "a[np.isnan(a)] = 0\n",
        "a"
      ],
      "metadata": {
        "colab": {
          "base_uri": "https://localhost:8080/"
        },
        "id": "p9uMzPWlzY3O",
        "outputId": "78a01f66-c14f-47a3-f27e-7ddd7eda3458"
      },
      "execution_count": null,
      "outputs": [
        {
          "output_type": "execute_result",
          "data": {
            "text/plain": [
              "array([1., 2., 3., 0.])"
            ]
          },
          "metadata": {},
          "execution_count": 9
        }
      ]
    },
    {
      "cell_type": "markdown",
      "source": [
        "* nan和任何数计算都会返回nan"
      ],
      "metadata": {
        "id": "0mnbR2hczkdI"
      }
    },
    {
      "cell_type": "code",
      "source": [
        "b = np.nan\n",
        "a * b"
      ],
      "metadata": {
        "colab": {
          "base_uri": "https://localhost:8080/"
        },
        "id": "sW4LOy3aznx5",
        "outputId": "3d8248a2-2389-42c7-917d-b15a36fa3267"
      },
      "execution_count": null,
      "outputs": [
        {
          "output_type": "execute_result",
          "data": {
            "text/plain": [
              "array([nan, nan, nan, nan])"
            ]
          },
          "metadata": {},
          "execution_count": 12
        }
      ]
    },
    {
      "cell_type": "markdown",
      "source": [
        "* 替换数据中nan值，一般会采用均值替代，具体例子如下所示:"
      ],
      "metadata": {
        "id": "PaUqCc-WBiqI"
      }
    },
    {
      "cell_type": "code",
      "source": [
        "a = np.arange(12).reshape((3,4)).astype(\"float\")\n",
        "a[1,2:] = np.nan\n",
        "a"
      ],
      "metadata": {
        "colab": {
          "base_uri": "https://localhost:8080/"
        },
        "id": "r3Y02zpIBsCn",
        "outputId": "3eb7cc4e-eb98-40fd-d203-ef3d76d94f55"
      },
      "execution_count": null,
      "outputs": [
        {
          "output_type": "execute_result",
          "data": {
            "text/plain": [
              "array([[ 0.,  1.,  2.,  3.],\n",
              "       [ 4.,  5., nan, nan],\n",
              "       [ 8.,  9., 10., 11.]])"
            ]
          },
          "metadata": {},
          "execution_count": 59
        }
      ]
    },
    {
      "cell_type": "code",
      "source": [
        "def fill_nan(a):\n",
        "  for i in range(a.shape[1]):   # 依次对每列进行操作\n",
        "    a_col = a[:,i]   # 当前列\n",
        "    nan_num = np.count_nonzero(a_col != a_col)\n",
        "    if nan_num != 0:\n",
        "      not_nan_col = a_col[a_col == a_col] # 提取当前列不为nan的数\n",
        "      mean = not_nan_col.mean() \n",
        "      a_col[a_col != a_col] = mean\n",
        "  return a\n",
        "\n",
        "fill_nan(a)  "
      ],
      "metadata": {
        "colab": {
          "base_uri": "https://localhost:8080/"
        },
        "id": "QlySihrbB3st",
        "outputId": "c3c76c86-5576-484c-bb3c-8030767be0fd"
      },
      "execution_count": null,
      "outputs": [
        {
          "output_type": "execute_result",
          "data": {
            "text/plain": [
              "array([[ 0.,  1.,  2.,  3.],\n",
              "       [ 4.,  5.,  6.,  7.],\n",
              "       [ 8.,  9., 10., 11.]])"
            ]
          },
          "metadata": {},
          "execution_count": 60
        }
      ]
    }
  ]
}